{
 "cells": [
  {
   "cell_type": "code",
   "execution_count": 24,
   "metadata": {},
   "outputs": [
    {
     "name": "stdout",
     "output_type": "stream",
     "text": [
      "The autoreload extension is already loaded. To reload it, use:\n",
      "  %reload_ext autoreload\n"
     ]
    }
   ],
   "source": [
    "%load_ext autoreload\n",
    "%autoreload 2"
   ]
  },
  {
   "cell_type": "code",
   "execution_count": 2,
   "metadata": {},
   "outputs": [],
   "source": [
    "import numpy as np\n",
    "import torch\n",
    "from PIL import Image\n",
    "from models.yolo import Model"
   ]
  },
  {
   "cell_type": "code",
   "execution_count": 3,
   "metadata": {},
   "outputs": [],
   "source": [
    "import train\n",
    "# data/hyps/hyp.finetune.yaml"
   ]
  },
  {
   "cell_type": "code",
   "execution_count": null,
   "metadata": {},
   "outputs": [],
   "source": [
    "train.run(data='bpjt.yaml',\n",
    "          weights='/home/jovyan/yolov5/runs/train/wo_other_bluf/weights/best.pt',\n",
    "          img=1280,\n",
    "          batch=16,\n",
    "          epochs=20,\n",
    "          name='wo_other_bl',\n",
    "          cfg='models/hub/yolov5l6o.yaml',\n",
    "          freeze=33          \n",
    "         )"
   ]
  },
  {
   "cell_type": "code",
   "execution_count": 16,
   "metadata": {},
   "outputs": [
    {
     "name": "stdout",
     "output_type": "stream",
     "text": [
      "\u001b[34m\u001b[1mtrain: \u001b[0mweights=runs/train/wo_other_bl2/weights/best.pt, cfg=, data=bpjt.yaml, hyp=data/hyps/hyp.finetune.yaml, epochs=200, batch_size=16, imgsz=1280, rect=False, resume=False, nosave=False, noval=False, noautoanchor=False, evolve=None, bucket=, cache=None, image_weights=False, device=, multi_scale=False, single_cls=False, adam=False, sync_bn=False, workers=8, project=runs/train, entity=None, name=wo_other_blbf, exist_ok=False, quad=False, linear_lr=False, label_smoothing=0.0, upload_dataset=False, bbox_interval=-1, save_period=-1, artifact_alias=latest, local_rank=-1, freeze=10, patience=30\n",
      "\u001b[34m\u001b[1mgithub: \u001b[0m"
     ]
    },
    {
     "name": "stderr",
     "output_type": "stream",
     "text": [
      "YOLOv5 🚀 v5.0-406-g7b64e1d torch 1.8.1+cu102 CUDA:0 (Tesla V100-SXM2-32GB, 32480.5MB)\n",
      "\n",
      "\u001b[34m\u001b[1mhyperparameters: \u001b[0mlr0=0.0032, lrf=0.12, momentum=0.843, weight_decay=0.00036, warmup_epochs=2.0, warmup_momentum=0.5, warmup_bias_lr=0.05, box=0.0296, cls=0.243, cls_pw=0.631, obj=0.301, obj_pw=0.911, iou_t=0.2, anchor_t=2.91, fl_gamma=0.0, hsv_h=0.0138, hsv_s=0.664, hsv_v=0.464, degrees=0.373, translate=0.245, scale=0.898, shear=0.602, perspective=0.0, flipud=0.00856, fliplr=0.5, mosaic=1.0, mixup=0.243, copy_paste=0.0\n",
      "\u001b[34m\u001b[1mTensorBoard: \u001b[0mStart with 'tensorboard --logdir runs/train', view at http://localhost:6006/\n"
     ]
    },
    {
     "name": "stdout",
     "output_type": "stream",
     "text": [
      "up to date with https://github.com/sykrn/yolov5 ✅\n",
      "\u001b[34m\u001b[1mWeights & Biases: \u001b[0mrun 'pip install wandb' to automatically track and visualize YOLOv5 🚀 runs (RECOMMENDED)\n"
     ]
    },
    {
     "name": "stderr",
     "output_type": "stream",
     "text": [
      "\n",
      "                 from  n    params  module                                  arguments                     \n",
      "  0                -1  1      7040  models.common.Focus                     [3, 64, 3]                    \n",
      "  1                -1  1     73984  models.common.Conv                      [64, 128, 3, 2]               \n",
      "  2                -1  3    156928  models.common.C3                        [128, 128, 3]                 \n",
      "  3                -1  1    295424  models.common.Conv                      [128, 256, 3, 2]              \n",
      "  4                -1  9   1611264  models.common.C3                        [256, 256, 9]                 \n",
      "  5                -1  1   1180672  models.common.Conv                      [256, 512, 3, 2]              \n",
      "  6                -1  9   6433792  models.common.C3                        [512, 512, 9]                 \n",
      "  7                -1  1   3540480  models.common.Conv                      [512, 768, 3, 2]              \n",
      "  8                -1  3   5611008  models.common.C3                        [768, 768, 3]                 \n",
      "  9                -1  1   7079936  models.common.Conv                      [768, 1024, 3, 2]             \n",
      " 10                -1  1   2624512  models.common.SPP                       [1024, 1024, [3, 5, 7]]       \n",
      " 11                -1  3   9971712  models.common.C3                        [1024, 1024, 3, False]        \n",
      " 12                -1  1    787968  models.common.Conv                      [1024, 768, 1, 1]             \n",
      " 13                -1  1         0  torch.nn.modules.upsampling.Upsample    [None, 2, 'nearest']          \n",
      " 14           [-1, 8]  1         0  models.common.Concat                    [1]                           \n",
      " 15                -1  3   6200832  models.common.C3                        [1536, 768, 3, False]         \n",
      " 16                -1  1    394240  models.common.Conv                      [768, 512, 1, 1]              \n",
      " 17                -1  1         0  torch.nn.modules.upsampling.Upsample    [None, 2, 'nearest']          \n",
      " 18           [-1, 6]  1         0  models.common.Concat                    [1]                           \n",
      " 19                -1  3   2757632  models.common.C3                        [1024, 512, 3, False]         \n",
      " 20                -1  1    131584  models.common.Conv                      [512, 256, 1, 1]              \n",
      " 21                -1  1         0  torch.nn.modules.upsampling.Upsample    [None, 2, 'nearest']          \n",
      " 22           [-1, 4]  1         0  models.common.Concat                    [1]                           \n",
      " 23                -1  3    690688  models.common.C3                        [512, 256, 3, False]          \n",
      " 24                -1  1    590336  models.common.Conv                      [256, 256, 3, 2]              \n",
      " 25          [-1, 20]  1         0  models.common.Concat                    [1]                           \n",
      " 26                -1  3   2495488  models.common.C3                        [512, 512, 3, False]          \n",
      " 27                -1  1   2360320  models.common.Conv                      [512, 512, 3, 2]              \n",
      " 28          [-1, 16]  1         0  models.common.Concat                    [1]                           \n",
      " 29                -1  3   5807616  models.common.C3                        [1024, 768, 3, False]         \n",
      " 30                -1  1   5309952  models.common.Conv                      [768, 768, 3, 2]              \n",
      " 31          [-1, 12]  1         0  models.common.Concat                    [1]                           \n",
      " 32                -1  3  10496000  models.common.C3                        [1536, 1024, 3, False]        \n",
      " 33  [23, 26, 29, 32]  1     84612  models.yolo.Detect                      [5, [[19, 27, 44, 40, 38, 94], [96, 68, 86, 152, 180, 137], [140, 301, 303, 264, 238, 542], [436, 615, 739, 380, 925, 792]], 1, [256, 512, 768, 1024]]\n",
      "Model Summary: 638 layers, 76694020 parameters, 76694020 gradients, 116.6 GFLOPs\n",
      "\n",
      "Transferred 832/832 items from runs/train/wo_other_bl2/weights/best.pt\n",
      "Scaled weight_decay = 0.00036\n",
      "\u001b[34m\u001b[1moptimizer:\u001b[0m SGD with parameter groups 137 weight, 141 weight (no decay), 141 bias\n"
     ]
    },
    {
     "name": "stdout",
     "output_type": "stream",
     "text": [
      "freezing model.0.conv.conv.weight\n",
      "freezing model.0.conv.bn.weight\n",
      "freezing model.0.conv.bn.bias\n",
      "freezing model.1.conv.weight\n",
      "freezing model.1.bn.weight\n",
      "freezing model.1.bn.bias\n",
      "freezing model.2.cv1.conv.weight\n",
      "freezing model.2.cv1.bn.weight\n",
      "freezing model.2.cv1.bn.bias\n",
      "freezing model.2.cv2.conv.weight\n",
      "freezing model.2.cv2.bn.weight\n",
      "freezing model.2.cv2.bn.bias\n",
      "freezing model.2.cv3.conv.weight\n",
      "freezing model.2.cv3.bn.weight\n",
      "freezing model.2.cv3.bn.bias\n",
      "freezing model.2.m.0.cv1.conv.weight\n",
      "freezing model.2.m.0.cv1.bn.weight\n",
      "freezing model.2.m.0.cv1.bn.bias\n",
      "freezing model.2.m.0.cv2.conv.weight\n",
      "freezing model.2.m.0.cv2.bn.weight\n",
      "freezing model.2.m.0.cv2.bn.bias\n",
      "freezing model.2.m.1.cv1.conv.weight\n",
      "freezing model.2.m.1.cv1.bn.weight\n",
      "freezing model.2.m.1.cv1.bn.bias\n",
      "freezing model.2.m.1.cv2.conv.weight\n",
      "freezing model.2.m.1.cv2.bn.weight\n",
      "freezing model.2.m.1.cv2.bn.bias\n",
      "freezing model.2.m.2.cv1.conv.weight\n",
      "freezing model.2.m.2.cv1.bn.weight\n",
      "freezing model.2.m.2.cv1.bn.bias\n",
      "freezing model.2.m.2.cv2.conv.weight\n",
      "freezing model.2.m.2.cv2.bn.weight\n",
      "freezing model.2.m.2.cv2.bn.bias\n",
      "freezing model.3.conv.weight\n",
      "freezing model.3.bn.weight\n",
      "freezing model.3.bn.bias\n",
      "freezing model.4.cv1.conv.weight\n",
      "freezing model.4.cv1.bn.weight\n",
      "freezing model.4.cv1.bn.bias\n",
      "freezing model.4.cv2.conv.weight\n",
      "freezing model.4.cv2.bn.weight\n",
      "freezing model.4.cv2.bn.bias\n",
      "freezing model.4.cv3.conv.weight\n",
      "freezing model.4.cv3.bn.weight\n",
      "freezing model.4.cv3.bn.bias\n",
      "freezing model.4.m.0.cv1.conv.weight\n",
      "freezing model.4.m.0.cv1.bn.weight\n",
      "freezing model.4.m.0.cv1.bn.bias\n",
      "freezing model.4.m.0.cv2.conv.weight\n",
      "freezing model.4.m.0.cv2.bn.weight\n",
      "freezing model.4.m.0.cv2.bn.bias\n",
      "freezing model.4.m.1.cv1.conv.weight\n",
      "freezing model.4.m.1.cv1.bn.weight\n",
      "freezing model.4.m.1.cv1.bn.bias\n",
      "freezing model.4.m.1.cv2.conv.weight\n",
      "freezing model.4.m.1.cv2.bn.weight\n",
      "freezing model.4.m.1.cv2.bn.bias\n",
      "freezing model.4.m.2.cv1.conv.weight\n",
      "freezing model.4.m.2.cv1.bn.weight\n",
      "freezing model.4.m.2.cv1.bn.bias\n",
      "freezing model.4.m.2.cv2.conv.weight\n",
      "freezing model.4.m.2.cv2.bn.weight\n",
      "freezing model.4.m.2.cv2.bn.bias\n",
      "freezing model.4.m.3.cv1.conv.weight\n",
      "freezing model.4.m.3.cv1.bn.weight\n",
      "freezing model.4.m.3.cv1.bn.bias\n",
      "freezing model.4.m.3.cv2.conv.weight\n",
      "freezing model.4.m.3.cv2.bn.weight\n",
      "freezing model.4.m.3.cv2.bn.bias\n",
      "freezing model.4.m.4.cv1.conv.weight\n",
      "freezing model.4.m.4.cv1.bn.weight\n",
      "freezing model.4.m.4.cv1.bn.bias\n",
      "freezing model.4.m.4.cv2.conv.weight\n",
      "freezing model.4.m.4.cv2.bn.weight\n",
      "freezing model.4.m.4.cv2.bn.bias\n",
      "freezing model.4.m.5.cv1.conv.weight\n",
      "freezing model.4.m.5.cv1.bn.weight\n",
      "freezing model.4.m.5.cv1.bn.bias\n",
      "freezing model.4.m.5.cv2.conv.weight\n",
      "freezing model.4.m.5.cv2.bn.weight\n",
      "freezing model.4.m.5.cv2.bn.bias\n",
      "freezing model.4.m.6.cv1.conv.weight\n",
      "freezing model.4.m.6.cv1.bn.weight\n",
      "freezing model.4.m.6.cv1.bn.bias\n",
      "freezing model.4.m.6.cv2.conv.weight\n",
      "freezing model.4.m.6.cv2.bn.weight\n",
      "freezing model.4.m.6.cv2.bn.bias\n",
      "freezing model.4.m.7.cv1.conv.weight\n",
      "freezing model.4.m.7.cv1.bn.weight\n",
      "freezing model.4.m.7.cv1.bn.bias\n",
      "freezing model.4.m.7.cv2.conv.weight\n",
      "freezing model.4.m.7.cv2.bn.weight\n",
      "freezing model.4.m.7.cv2.bn.bias\n",
      "freezing model.4.m.8.cv1.conv.weight\n",
      "freezing model.4.m.8.cv1.bn.weight\n",
      "freezing model.4.m.8.cv1.bn.bias\n",
      "freezing model.4.m.8.cv2.conv.weight\n",
      "freezing model.4.m.8.cv2.bn.weight\n",
      "freezing model.4.m.8.cv2.bn.bias\n",
      "freezing model.5.conv.weight\n",
      "freezing model.5.bn.weight\n",
      "freezing model.5.bn.bias\n",
      "freezing model.6.cv1.conv.weight\n",
      "freezing model.6.cv1.bn.weight\n",
      "freezing model.6.cv1.bn.bias\n",
      "freezing model.6.cv2.conv.weight\n",
      "freezing model.6.cv2.bn.weight\n",
      "freezing model.6.cv2.bn.bias\n",
      "freezing model.6.cv3.conv.weight\n",
      "freezing model.6.cv3.bn.weight\n",
      "freezing model.6.cv3.bn.bias\n",
      "freezing model.6.m.0.cv1.conv.weight\n",
      "freezing model.6.m.0.cv1.bn.weight\n",
      "freezing model.6.m.0.cv1.bn.bias\n",
      "freezing model.6.m.0.cv2.conv.weight\n",
      "freezing model.6.m.0.cv2.bn.weight\n",
      "freezing model.6.m.0.cv2.bn.bias\n",
      "freezing model.6.m.1.cv1.conv.weight\n",
      "freezing model.6.m.1.cv1.bn.weight\n",
      "freezing model.6.m.1.cv1.bn.bias\n",
      "freezing model.6.m.1.cv2.conv.weight\n",
      "freezing model.6.m.1.cv2.bn.weight\n",
      "freezing model.6.m.1.cv2.bn.bias\n",
      "freezing model.6.m.2.cv1.conv.weight\n",
      "freezing model.6.m.2.cv1.bn.weight\n",
      "freezing model.6.m.2.cv1.bn.bias\n",
      "freezing model.6.m.2.cv2.conv.weight\n",
      "freezing model.6.m.2.cv2.bn.weight\n",
      "freezing model.6.m.2.cv2.bn.bias\n",
      "freezing model.6.m.3.cv1.conv.weight\n",
      "freezing model.6.m.3.cv1.bn.weight\n",
      "freezing model.6.m.3.cv1.bn.bias\n",
      "freezing model.6.m.3.cv2.conv.weight\n",
      "freezing model.6.m.3.cv2.bn.weight\n",
      "freezing model.6.m.3.cv2.bn.bias\n",
      "freezing model.6.m.4.cv1.conv.weight\n",
      "freezing model.6.m.4.cv1.bn.weight\n",
      "freezing model.6.m.4.cv1.bn.bias\n",
      "freezing model.6.m.4.cv2.conv.weight\n",
      "freezing model.6.m.4.cv2.bn.weight\n",
      "freezing model.6.m.4.cv2.bn.bias\n",
      "freezing model.6.m.5.cv1.conv.weight\n",
      "freezing model.6.m.5.cv1.bn.weight\n",
      "freezing model.6.m.5.cv1.bn.bias\n",
      "freezing model.6.m.5.cv2.conv.weight\n",
      "freezing model.6.m.5.cv2.bn.weight\n",
      "freezing model.6.m.5.cv2.bn.bias\n",
      "freezing model.6.m.6.cv1.conv.weight\n",
      "freezing model.6.m.6.cv1.bn.weight\n",
      "freezing model.6.m.6.cv1.bn.bias\n",
      "freezing model.6.m.6.cv2.conv.weight\n",
      "freezing model.6.m.6.cv2.bn.weight\n",
      "freezing model.6.m.6.cv2.bn.bias\n",
      "freezing model.6.m.7.cv1.conv.weight\n",
      "freezing model.6.m.7.cv1.bn.weight\n",
      "freezing model.6.m.7.cv1.bn.bias\n",
      "freezing model.6.m.7.cv2.conv.weight\n",
      "freezing model.6.m.7.cv2.bn.weight\n",
      "freezing model.6.m.7.cv2.bn.bias\n",
      "freezing model.6.m.8.cv1.conv.weight\n",
      "freezing model.6.m.8.cv1.bn.weight\n",
      "freezing model.6.m.8.cv1.bn.bias\n",
      "freezing model.6.m.8.cv2.conv.weight\n",
      "freezing model.6.m.8.cv2.bn.weight\n",
      "freezing model.6.m.8.cv2.bn.bias\n",
      "freezing model.7.conv.weight\n",
      "freezing model.7.bn.weight\n",
      "freezing model.7.bn.bias\n",
      "freezing model.8.cv1.conv.weight\n",
      "freezing model.8.cv1.bn.weight\n",
      "freezing model.8.cv1.bn.bias\n",
      "freezing model.8.cv2.conv.weight\n",
      "freezing model.8.cv2.bn.weight\n",
      "freezing model.8.cv2.bn.bias\n",
      "freezing model.8.cv3.conv.weight\n",
      "freezing model.8.cv3.bn.weight\n",
      "freezing model.8.cv3.bn.bias\n",
      "freezing model.8.m.0.cv1.conv.weight\n",
      "freezing model.8.m.0.cv1.bn.weight\n",
      "freezing model.8.m.0.cv1.bn.bias\n",
      "freezing model.8.m.0.cv2.conv.weight\n",
      "freezing model.8.m.0.cv2.bn.weight\n",
      "freezing model.8.m.0.cv2.bn.bias\n",
      "freezing model.8.m.1.cv1.conv.weight\n",
      "freezing model.8.m.1.cv1.bn.weight\n",
      "freezing model.8.m.1.cv1.bn.bias\n",
      "freezing model.8.m.1.cv2.conv.weight\n",
      "freezing model.8.m.1.cv2.bn.weight\n",
      "freezing model.8.m.1.cv2.bn.bias\n",
      "freezing model.8.m.2.cv1.conv.weight\n",
      "freezing model.8.m.2.cv1.bn.weight\n",
      "freezing model.8.m.2.cv1.bn.bias\n",
      "freezing model.8.m.2.cv2.conv.weight\n",
      "freezing model.8.m.2.cv2.bn.weight\n",
      "freezing model.8.m.2.cv2.bn.bias\n",
      "freezing model.9.conv.weight\n",
      "freezing model.9.bn.weight\n",
      "freezing model.9.bn.bias\n"
     ]
    },
    {
     "name": "stderr",
     "output_type": "stream",
     "text": [
      "\u001b[34m\u001b[1mtrain: \u001b[0mScanning 'sym_data/wo_others/train/labels.cache' images and labels... 4011 found, 0 missing, 0 empty, 0 corrupted: 100%|██████████| 4011/4011 [00:00<?, ?it/s]\n",
      "\u001b[34m\u001b[1mval: \u001b[0mScanning 'sym_data/wo_others/val/labels.cache' images and labels... 168 found, 21 missing, 0 empty, 0 corrupted: 100%|██████████| 189/189 [00:00<?, ?it/s]\n",
      "\u001b[34m\u001b[1mval: \u001b[0mScanning 'sym_data/wo_others/val/labels.cache' images and labels... 168 found, 21 missing, 0 empty, 0 corrupted: 100%|██████████| 189/189 [00:00<?, ?it/s]\n",
      "\u001b[34m\u001b[1mval: \u001b[0mScanning 'sym_data/wo_others/val/labels.cache' images and labels... 168 found, 21 missing, 0 empty, 0 corrupted: 100%|██████████| 189/189 [00:00<?, ?it/s]\n",
      "\u001b[34m\u001b[1mval: \u001b[0mScanning 'sym_data/wo_others/val/labels.cache' images and labels... 168 found, 21 missing, 0 empty, 0 corrupted: 100%|██████████| 189/189 [00:00<?, ?it/s]\n",
      "\u001b[34m\u001b[1mval: \u001b[0mScanning 'sym_data/wo_others/val/labels.cache' images and labels... 168 found, 21 missing, 0 empty, 0 corrupted: 100%|██████████| 189/189 [00:00<?, ?it/s]Image sizes 1280 train, 1280 val\n",
      "Using 8 dataloader workers\n",
      "Logging results to \u001b[1mruns/train/wo_other_blbf4\u001b[0m\n",
      "Starting training for 200 epochs...\n",
      "\n",
      "\u001b[34m\u001b[1mval: \u001b[0mScanning 'sym_data/wo_others/val/labels.cache' images and labels... 168 found, 21 missing, 0 empty, 0 corrupted: 100%|██████████| 189/189 [00:10<?, ?it/s]\n",
      "\n",
      "     Epoch   gpu_mem       box       obj       cls     other    labels  img_size\n",
      "\u001b[34m\u001b[1mval: \u001b[0mScanning 'sym_data/wo_others/val/labels.cache' images and labels... 168 found, 21 missing, 0 empty, 0 corrupted: 100%|██████████| 189/189 [00:10<?, ?it/s]\n",
      "\n",
      "\u001b[34m\u001b[1mval: \u001b[0mScanning 'sym_data/wo_others/val/labels.cache' images and labels... 168 found, 21 missing, 0 empty, 0 corrupted: 100%|██████████| 189/189 [00:10<?, ?it/s]\n",
      "  0%|          | 0/251 [00:00<?, ?it/s]"
     ]
    },
    {
     "name": "stdout",
     "output_type": "stream",
     "text": [
      "Plotting labels... \n",
      "\n",
      "\u001b[34m\u001b[1mautoanchor: \u001b[0mAnalyzing anchors... anchors/target = 2.62, Best Possible Recall (BPR) = 0.9884\n"
     ]
    },
    {
     "name": "stderr",
     "output_type": "stream",
     "text": [
      "     0/199     15.9G   0.01557  0.002902  0.001563 4.498e-05        64      1280: 100%|██████████| 251/251 [03:09<00:00,  1.33it/s]\n",
      "               Class     Images     Labels          P          R     mAP@.5 mAP@.5:.95: 100%|██████████| 6/6 [00:02<00:00,  2.36it/s]\n"
     ]
    },
    {
     "name": "stdout",
     "output_type": "stream",
     "text": [
      "                 all        189        273      0.495      0.454      0.402      0.213   5.24e-05\n"
     ]
    },
    {
     "name": "stderr",
     "output_type": "stream",
     "text": [
      "\n",
      "     Epoch   gpu_mem       box       obj       cls     other    labels  img_size\n",
      "     1/199     18.3G   0.01483  0.002592  0.001523 3.825e-05        58      1280: 100%|██████████| 251/251 [02:29<00:00,  1.68it/s]\n",
      "               Class     Images     Labels          P          R     mAP@.5 mAP@.5:.95: 100%|██████████| 6/6 [00:02<00:00,  2.40it/s]\n"
     ]
    },
    {
     "name": "stdout",
     "output_type": "stream",
     "text": [
      "                 all        189        273      0.507      0.467      0.439      0.224   4.65e-05\n"
     ]
    },
    {
     "name": "stderr",
     "output_type": "stream",
     "text": [
      "\n",
      "     Epoch   gpu_mem       box       obj       cls     other    labels  img_size\n",
      "     2/199     18.3G   0.01487  0.002503  0.001415 3.802e-05        58      1280: 100%|██████████| 251/251 [02:29<00:00,  1.68it/s]\n",
      "               Class     Images     Labels          P          R     mAP@.5 mAP@.5:.95: 100%|██████████| 6/6 [00:02<00:00,  2.41it/s]\n"
     ]
    },
    {
     "name": "stdout",
     "output_type": "stream",
     "text": [
      "                 all        189        273      0.531      0.479      0.463      0.237   4.43e-05\n"
     ]
    },
    {
     "name": "stderr",
     "output_type": "stream",
     "text": [
      "\n",
      "     Epoch   gpu_mem       box       obj       cls     other    labels  img_size\n",
      "     3/199     18.3G   0.01483  0.002405  0.001363 3.597e-05        47      1280: 100%|██████████| 251/251 [02:24<00:00,  1.74it/s]\n",
      "               Class     Images     Labels          P          R     mAP@.5 mAP@.5:.95: 100%|██████████| 6/6 [00:02<00:00,  2.39it/s]\n"
     ]
    },
    {
     "name": "stdout",
     "output_type": "stream",
     "text": [
      "                 all        189        273      0.563       0.47       0.46      0.233    4.1e-05\n"
     ]
    },
    {
     "name": "stderr",
     "output_type": "stream",
     "text": [
      "\n",
      "     Epoch   gpu_mem       box       obj       cls     other    labels  img_size\n",
      "     4/199     18.3G   0.01487  0.002386  0.001452 3.423e-05        60      1280: 100%|██████████| 251/251 [02:27<00:00,  1.70it/s]\n",
      "               Class     Images     Labels          P          R     mAP@.5 mAP@.5:.95: 100%|██████████| 6/6 [00:02<00:00,  2.39it/s]\n"
     ]
    },
    {
     "name": "stdout",
     "output_type": "stream",
     "text": [
      "                 all        189        273      0.551       0.51      0.469      0.246   3.74e-05\n"
     ]
    },
    {
     "name": "stderr",
     "output_type": "stream",
     "text": [
      "\n",
      "     Epoch   gpu_mem       box       obj       cls     other    labels  img_size\n",
      "     5/199     18.3G   0.01507  0.002407  0.001516 3.322e-05        67      1280: 100%|██████████| 251/251 [02:27<00:00,  1.70it/s]\n",
      "               Class     Images     Labels          P          R     mAP@.5 mAP@.5:.95: 100%|██████████| 6/6 [00:02<00:00,  2.38it/s]\n"
     ]
    },
    {
     "name": "stdout",
     "output_type": "stream",
     "text": [
      "                 all        189        273      0.521      0.522      0.466      0.247   3.35e-05\n"
     ]
    },
    {
     "name": "stderr",
     "output_type": "stream",
     "text": [
      "\n",
      "     Epoch   gpu_mem       box       obj       cls     other    labels  img_size\n",
      "     6/199     18.3G   0.01481  0.002383  0.001415 3.262e-05        42      1280: 100%|██████████| 251/251 [02:28<00:00,  1.69it/s]\n",
      "               Class     Images     Labels          P          R     mAP@.5 mAP@.5:.95: 100%|██████████| 6/6 [00:02<00:00,  2.43it/s]\n"
     ]
    },
    {
     "name": "stdout",
     "output_type": "stream",
     "text": [
      "                 all        189        273      0.551       0.51      0.485      0.254   3.15e-05\n"
     ]
    },
    {
     "name": "stderr",
     "output_type": "stream",
     "text": [
      "\n",
      "     Epoch   gpu_mem       box       obj       cls     other    labels  img_size\n",
      "     7/199     18.3G   0.01452  0.002314  0.001403 3.137e-05        46      1280: 100%|██████████| 251/251 [02:24<00:00,  1.74it/s]\n",
      "               Class     Images     Labels          P          R     mAP@.5 mAP@.5:.95: 100%|██████████| 6/6 [00:02<00:00,  2.35it/s]\n"
     ]
    },
    {
     "name": "stdout",
     "output_type": "stream",
     "text": [
      "                 all        189        273      0.592      0.484       0.47      0.254   3.43e-05\n"
     ]
    },
    {
     "name": "stderr",
     "output_type": "stream",
     "text": [
      "\n",
      "     Epoch   gpu_mem       box       obj       cls     other    labels  img_size\n",
      "     8/199     18.3G   0.01465  0.002341  0.001469 3.178e-05        48      1280: 100%|██████████| 251/251 [02:24<00:00,  1.74it/s]\n",
      "               Class     Images     Labels          P          R     mAP@.5 mAP@.5:.95: 100%|██████████| 6/6 [00:02<00:00,  2.37it/s]\n"
     ]
    },
    {
     "name": "stdout",
     "output_type": "stream",
     "text": [
      "                 all        189        273      0.609      0.469      0.469      0.252   3.03e-05\n"
     ]
    },
    {
     "name": "stderr",
     "output_type": "stream",
     "text": [
      "\n",
      "     Epoch   gpu_mem       box       obj       cls     other    labels  img_size\n",
      "     9/199     18.3G   0.01441  0.002363  0.001309 3.014e-05        53      1280: 100%|██████████| 251/251 [02:25<00:00,  1.73it/s]\n",
      "               Class     Images     Labels          P          R     mAP@.5 mAP@.5:.95: 100%|██████████| 6/6 [00:02<00:00,  2.40it/s]\n"
     ]
    },
    {
     "name": "stdout",
     "output_type": "stream",
     "text": [
      "                 all        189        273      0.617       0.48      0.482      0.254   2.94e-05\n"
     ]
    },
    {
     "name": "stderr",
     "output_type": "stream",
     "text": [
      "\n",
      "     Epoch   gpu_mem       box       obj       cls     other    labels  img_size\n",
      "    10/199     18.3G   0.01439  0.002298  0.001343 3.185e-05        51      1280: 100%|██████████| 251/251 [02:25<00:00,  1.72it/s]\n",
      "               Class     Images     Labels          P          R     mAP@.5 mAP@.5:.95: 100%|██████████| 6/6 [00:02<00:00,  2.41it/s]\n"
     ]
    },
    {
     "name": "stdout",
     "output_type": "stream",
     "text": [
      "                 all        189        273      0.599      0.473      0.463      0.248   3.01e-05\n"
     ]
    },
    {
     "name": "stderr",
     "output_type": "stream",
     "text": [
      "\n",
      "     Epoch   gpu_mem       box       obj       cls     other    labels  img_size\n",
      "    11/199     18.3G   0.01439  0.002306  0.001391 3.122e-05        78      1280: 100%|██████████| 251/251 [02:28<00:00,  1.69it/s]\n",
      "               Class     Images     Labels          P          R     mAP@.5 mAP@.5:.95: 100%|██████████| 6/6 [00:02<00:00,  2.36it/s]\n"
     ]
    },
    {
     "name": "stdout",
     "output_type": "stream",
     "text": [
      "                 all        189        273      0.515        0.5      0.465      0.253   2.85e-05\n"
     ]
    },
    {
     "name": "stderr",
     "output_type": "stream",
     "text": [
      "\n",
      "     Epoch   gpu_mem       box       obj       cls     other    labels  img_size\n",
      "    13/199     18.3G   0.01414  0.002237  0.001311 2.968e-05        38      1280: 100%|██████████| 251/251 [02:22<00:00,  1.77it/s]\n",
      "               Class     Images     Labels          P          R     mAP@.5 mAP@.5:.95: 100%|██████████| 6/6 [00:02<00:00,  2.38it/s]\n"
     ]
    },
    {
     "name": "stdout",
     "output_type": "stream",
     "text": [
      "                 all        189        273      0.621      0.483       0.47       0.26   2.78e-05\n"
     ]
    },
    {
     "name": "stderr",
     "output_type": "stream",
     "text": [
      "\n",
      "     Epoch   gpu_mem       box       obj       cls     other    labels  img_size\n",
      "    14/199     18.3G   0.01404  0.002247  0.001343 2.901e-05        61      1280: 100%|██████████| 251/251 [02:23<00:00,  1.75it/s]\n",
      "               Class     Images     Labels          P          R     mAP@.5 mAP@.5:.95: 100%|██████████| 6/6 [00:02<00:00,  2.40it/s]\n"
     ]
    },
    {
     "name": "stdout",
     "output_type": "stream",
     "text": [
      "                 all        189        273      0.651      0.472      0.481      0.261   2.57e-05\n"
     ]
    },
    {
     "name": "stderr",
     "output_type": "stream",
     "text": [
      "\n",
      "     Epoch   gpu_mem       box       obj       cls     other    labels  img_size\n",
      "    15/199     18.3G   0.01404  0.002204  0.001386 2.987e-05        56      1280: 100%|██████████| 251/251 [02:24<00:00,  1.74it/s]\n",
      "               Class     Images     Labels          P          R     mAP@.5 mAP@.5:.95: 100%|██████████| 6/6 [00:02<00:00,  2.44it/s]\n"
     ]
    },
    {
     "name": "stdout",
     "output_type": "stream",
     "text": [
      "                 all        189        273      0.658       0.47      0.478      0.257   2.69e-05\n"
     ]
    },
    {
     "name": "stderr",
     "output_type": "stream",
     "text": [
      "\n",
      "     Epoch   gpu_mem       box       obj       cls     other    labels  img_size\n",
      "    16/199     18.3G   0.01368   0.00226  0.001306 2.766e-05        61      1280: 100%|██████████| 251/251 [02:21<00:00,  1.78it/s]\n",
      "               Class     Images     Labels          P          R     mAP@.5 mAP@.5:.95: 100%|██████████| 6/6 [00:02<00:00,  2.40it/s]\n"
     ]
    },
    {
     "name": "stdout",
     "output_type": "stream",
     "text": [
      "                 all        189        273      0.546      0.514      0.474       0.25   2.75e-05\n"
     ]
    },
    {
     "name": "stderr",
     "output_type": "stream",
     "text": [
      "\n",
      "     Epoch   gpu_mem       box       obj       cls     other    labels  img_size\n",
      "    17/199     18.3G   0.01414  0.002257  0.001453 2.897e-05        61      1280: 100%|██████████| 251/251 [02:24<00:00,  1.74it/s]\n",
      "               Class     Images     Labels          P          R     mAP@.5 mAP@.5:.95: 100%|██████████| 6/6 [00:02<00:00,  2.40it/s]\n"
     ]
    },
    {
     "name": "stdout",
     "output_type": "stream",
     "text": [
      "                 all        189        273      0.511      0.542      0.471      0.256   2.76e-05\n"
     ]
    },
    {
     "name": "stderr",
     "output_type": "stream",
     "text": [
      "\n",
      "     Epoch   gpu_mem       box       obj       cls     other    labels  img_size\n",
      "    18/199     18.3G   0.01397  0.002281  0.001351 2.764e-05        61      1280: 100%|██████████| 251/251 [02:22<00:00,  1.76it/s]\n",
      "               Class     Images     Labels          P          R     mAP@.5 mAP@.5:.95: 100%|██████████| 6/6 [00:02<00:00,  2.39it/s]\n"
     ]
    },
    {
     "name": "stdout",
     "output_type": "stream",
     "text": [
      "                 all        189        273      0.575      0.492      0.469      0.259   2.67e-05\n"
     ]
    },
    {
     "name": "stderr",
     "output_type": "stream",
     "text": [
      "\n",
      "     Epoch   gpu_mem       box       obj       cls     other    labels  img_size\n",
      "    19/199     18.3G    0.0136  0.002092  0.001281 2.989e-05        70      1280:  27%|██▋       | 69/251 [00:35<01:38,  1.84it/s]IOPub message rate exceeded.\n",
      "The Jupyter server will temporarily stop sending output\n",
      "to the client in order to avoid crashing it.\n",
      "To change this limit, set the config variable\n",
      "`--ServerApp.iopub_msg_rate_limit`.\n",
      "\n",
      "Current values:\n",
      "ServerApp.iopub_msg_rate_limit=1000.0 (msgs/sec)\n",
      "ServerApp.rate_limit_window=3.0 (secs)\n",
      "\n",
      "               Class     Images     Labels          P          R     mAP@.5 mAP@.5:.95: 100%|██████████| 6/6 [00:02<00:00,  2.43it/s]\n"
     ]
    },
    {
     "name": "stdout",
     "output_type": "stream",
     "text": [
      "                 all        189        273      0.633       0.46      0.476      0.269   2.79e-05\n"
     ]
    },
    {
     "name": "stderr",
     "output_type": "stream",
     "text": [
      "\n",
      "     Epoch   gpu_mem       box       obj       cls     other    labels  img_size\n",
      "    27/199     18.3G   0.01342  0.002143  0.001301 2.615e-05        49      1280: 100%|██████████| 251/251 [02:21<00:00,  1.77it/s]\n",
      "               Class     Images     Labels          P          R     mAP@.5 mAP@.5:.95: 100%|██████████| 6/6 [00:02<00:00,  2.45it/s]\n"
     ]
    },
    {
     "name": "stdout",
     "output_type": "stream",
     "text": [
      "                 all        189        273      0.561      0.532      0.485      0.263   2.86e-05\n"
     ]
    },
    {
     "name": "stderr",
     "output_type": "stream",
     "text": [
      "\n",
      "     Epoch   gpu_mem       box       obj       cls     other    labels  img_size\n",
      "    28/199     18.3G   0.01339  0.002121  0.001262  2.79e-05        48      1280: 100%|██████████| 251/251 [02:23<00:00,  1.75it/s]\n",
      "               Class     Images     Labels          P          R     mAP@.5 mAP@.5:.95: 100%|██████████| 6/6 [00:02<00:00,  2.43it/s]\n"
     ]
    },
    {
     "name": "stdout",
     "output_type": "stream",
     "text": [
      "                 all        189        273      0.624       0.47      0.475      0.254   2.72e-05\n"
     ]
    },
    {
     "name": "stderr",
     "output_type": "stream",
     "text": [
      "\n",
      "     Epoch   gpu_mem       box       obj       cls     other    labels  img_size\n",
      "    29/199     18.3G   0.01337   0.00213   0.00125 2.441e-05        64      1280: 100%|██████████| 251/251 [02:20<00:00,  1.78it/s]\n",
      "               Class     Images     Labels          P          R     mAP@.5 mAP@.5:.95: 100%|██████████| 6/6 [00:02<00:00,  2.38it/s]\n"
     ]
    },
    {
     "name": "stdout",
     "output_type": "stream",
     "text": [
      "                 all        189        273      0.603       0.48      0.476      0.255   2.57e-05\n"
     ]
    },
    {
     "name": "stderr",
     "output_type": "stream",
     "text": [
      "\n",
      "     Epoch   gpu_mem       box       obj       cls     other    labels  img_size\n",
      "    30/199     18.3G   0.01356  0.002169  0.001213 2.513e-05        62      1280: 100%|██████████| 251/251 [02:22<00:00,  1.77it/s]\n",
      "               Class     Images     Labels          P          R     mAP@.5 mAP@.5:.95: 100%|██████████| 6/6 [00:02<00:00,  2.40it/s]\n"
     ]
    },
    {
     "name": "stdout",
     "output_type": "stream",
     "text": [
      "                 all        189        273      0.624      0.507      0.483      0.266   2.53e-05\n"
     ]
    },
    {
     "name": "stderr",
     "output_type": "stream",
     "text": [
      "\n",
      "     Epoch   gpu_mem       box       obj       cls     other    labels  img_size\n",
      "    31/199     18.3G   0.01318  0.002119  0.001192 2.446e-05        71      1280: 100%|██████████| 251/251 [02:22<00:00,  1.76it/s]\n",
      "               Class     Images     Labels          P          R     mAP@.5 mAP@.5:.95: 100%|██████████| 6/6 [00:02<00:00,  2.39it/s]\n"
     ]
    },
    {
     "name": "stdout",
     "output_type": "stream",
     "text": [
      "                 all        189        273      0.676      0.469      0.486      0.267   2.54e-05\n"
     ]
    },
    {
     "name": "stderr",
     "output_type": "stream",
     "text": [
      "\n",
      "     Epoch   gpu_mem       box       obj       cls     other    labels  img_size\n",
      "    32/199     18.3G   0.01298  0.002121   0.00118 2.497e-05       108      1280:  83%|████████▎ | 209/251 [01:55<00:21,  1.96it/s]IOPub message rate exceeded.\n",
      "The Jupyter server will temporarily stop sending output\n",
      "to the client in order to avoid crashing it.\n",
      "To change this limit, set the config variable\n",
      "`--ServerApp.iopub_msg_rate_limit`.\n",
      "\n",
      "Current values:\n",
      "ServerApp.iopub_msg_rate_limit=1000.0 (msgs/sec)\n",
      "ServerApp.rate_limit_window=3.0 (secs)\n",
      "\n",
      "    41/199     18.3G   0.01285   0.00207  0.001182 2.455e-05        54      1280: 100%|██████████| 251/251 [02:22<00:00,  1.76it/s]\n",
      "               Class     Images     Labels          P          R     mAP@.5 mAP@.5:.95: 100%|██████████| 6/6 [00:02<00:00,  2.41it/s]\n"
     ]
    },
    {
     "name": "stdout",
     "output_type": "stream",
     "text": [
      "                 all        189        273      0.611      0.487      0.473      0.245   2.51e-05\n"
     ]
    },
    {
     "name": "stderr",
     "output_type": "stream",
     "text": [
      "\n",
      "     Epoch   gpu_mem       box       obj       cls     other    labels  img_size\n",
      "    42/199     18.3G   0.01287  0.002047  0.001157 2.343e-05        57      1280: 100%|██████████| 251/251 [02:22<00:00,  1.77it/s]\n",
      "               Class     Images     Labels          P          R     mAP@.5 mAP@.5:.95: 100%|██████████| 6/6 [00:02<00:00,  2.30it/s]\n"
     ]
    },
    {
     "name": "stdout",
     "output_type": "stream",
     "text": [
      "                 all        189        273      0.625      0.443      0.466      0.264   2.46e-05\n"
     ]
    },
    {
     "name": "stderr",
     "output_type": "stream",
     "text": [
      "\n",
      "     Epoch   gpu_mem       box       obj       cls     other    labels  img_size\n",
      "    43/199     18.3G   0.01295  0.002088  0.001188 2.239e-05        62      1280: 100%|██████████| 251/251 [02:24<00:00,  1.74it/s]\n",
      "               Class     Images     Labels          P          R     mAP@.5 mAP@.5:.95: 100%|██████████| 6/6 [00:02<00:00,  2.40it/s]\n"
     ]
    },
    {
     "name": "stdout",
     "output_type": "stream",
     "text": [
      "                 all        189        273      0.605      0.482      0.479      0.265   2.41e-05\n"
     ]
    },
    {
     "name": "stderr",
     "output_type": "stream",
     "text": [
      "\n",
      "     Epoch   gpu_mem       box       obj       cls     other    labels  img_size\n",
      "    44/199     18.3G   0.01284  0.002072  0.001218 2.223e-05        40      1280: 100%|██████████| 251/251 [02:22<00:00,  1.77it/s]\n",
      "               Class     Images     Labels          P          R     mAP@.5 mAP@.5:.95: 100%|██████████| 6/6 [00:02<00:00,  2.41it/s]\n"
     ]
    },
    {
     "name": "stdout",
     "output_type": "stream",
     "text": [
      "                 all        189        273      0.715       0.44      0.484      0.263   2.53e-05\n"
     ]
    },
    {
     "name": "stderr",
     "output_type": "stream",
     "text": [
      "\n",
      "     Epoch   gpu_mem       box       obj       cls     other    labels  img_size\n",
      "    45/199     18.3G   0.01292  0.002016  0.001213 2.591e-05        61      1280: 100%|██████████| 251/251 [02:26<00:00,  1.71it/s]\n",
      "               Class     Images     Labels          P          R     mAP@.5 mAP@.5:.95: 100%|██████████| 6/6 [00:02<00:00,  2.38it/s]\n"
     ]
    },
    {
     "name": "stdout",
     "output_type": "stream",
     "text": [
      "                 all        189        273      0.643      0.472      0.485      0.269   2.44e-05\n"
     ]
    },
    {
     "name": "stderr",
     "output_type": "stream",
     "text": [
      "\n",
      "     Epoch   gpu_mem       box       obj       cls     other    labels  img_size\n",
      "    46/199     18.3G   0.01295  0.002048  0.001207 2.531e-05        84      1280: 100%|██████████| 251/251 [02:24<00:00,  1.74it/s]\n",
      "               Class     Images     Labels          P          R     mAP@.5 mAP@.5:.95: 100%|██████████| 6/6 [00:02<00:00,  2.41it/s]\n"
     ]
    },
    {
     "name": "stdout",
     "output_type": "stream",
     "text": [
      "                 all        189        273       0.53      0.527       0.47      0.261   2.44e-05\n"
     ]
    },
    {
     "name": "stderr",
     "output_type": "stream",
     "text": [
      "\n",
      "     Epoch   gpu_mem       box       obj       cls     other    labels  img_size\n",
      "    47/199     18.3G   0.01284  0.002173  0.001276 2.581e-05       154      1280:  25%|██▌       | 64/251 [00:34<01:30,  2.06it/s]IOPub message rate exceeded.\n",
      "The Jupyter server will temporarily stop sending output\n",
      "to the client in order to avoid crashing it.\n",
      "To change this limit, set the config variable\n",
      "`--ServerApp.iopub_msg_rate_limit`.\n",
      "\n",
      "Current values:\n",
      "ServerApp.iopub_msg_rate_limit=1000.0 (msgs/sec)\n",
      "ServerApp.rate_limit_window=3.0 (secs)\n",
      "\n",
      "    54/199     18.3G   0.01268  0.002037  0.001183 2.314e-05        54      1280: 100%|██████████| 251/251 [02:23<00:00,  1.75it/s]\n",
      "               Class     Images     Labels          P          R     mAP@.5 mAP@.5:.95: 100%|██████████| 6/6 [00:02<00:00,  2.34it/s]\n"
     ]
    },
    {
     "name": "stdout",
     "output_type": "stream",
     "text": [
      "                 all        189        273       0.73      0.471      0.495      0.271   2.47e-05\n"
     ]
    },
    {
     "name": "stderr",
     "output_type": "stream",
     "text": [
      "\n",
      "     Epoch   gpu_mem       box       obj       cls     other    labels  img_size\n",
      "    55/199     18.3G   0.01277  0.002057  0.001152  2.34e-05        57      1280: 100%|██████████| 251/251 [02:21<00:00,  1.77it/s]\n",
      "               Class     Images     Labels          P          R     mAP@.5 mAP@.5:.95: 100%|██████████| 6/6 [00:02<00:00,  2.42it/s]\n"
     ]
    },
    {
     "name": "stdout",
     "output_type": "stream",
     "text": [
      "                 all        189        273      0.694      0.452      0.489      0.273   2.41e-05\n"
     ]
    },
    {
     "name": "stderr",
     "output_type": "stream",
     "text": [
      "\n",
      "     Epoch   gpu_mem       box       obj       cls     other    labels  img_size\n",
      "    56/199     18.3G   0.01277  0.002035  0.001185 2.183e-05        78      1280: 100%|██████████| 251/251 [02:22<00:00,  1.76it/s]\n",
      "               Class     Images     Labels          P          R     mAP@.5 mAP@.5:.95: 100%|██████████| 6/6 [00:02<00:00,  2.37it/s]\n"
     ]
    },
    {
     "name": "stdout",
     "output_type": "stream",
     "text": [
      "                 all        189        273      0.677      0.469      0.494      0.275   2.25e-05\n"
     ]
    },
    {
     "name": "stderr",
     "output_type": "stream",
     "text": [
      "\n",
      "     Epoch   gpu_mem       box       obj       cls     other    labels  img_size\n",
      "    57/199     18.3G   0.01268  0.002056  0.001152 2.253e-05        63      1280: 100%|██████████| 251/251 [02:22<00:00,  1.76it/s]\n",
      "               Class     Images     Labels          P          R     mAP@.5 mAP@.5:.95: 100%|██████████| 6/6 [00:02<00:00,  2.21it/s]\n"
     ]
    },
    {
     "name": "stdout",
     "output_type": "stream",
     "text": [
      "                 all        189        273      0.689      0.455      0.484      0.273   2.34e-05\n"
     ]
    },
    {
     "name": "stderr",
     "output_type": "stream",
     "text": [
      "\n",
      "     Epoch   gpu_mem       box       obj       cls     other    labels  img_size\n",
      "    58/199     18.3G   0.01246  0.001977  0.001182 2.276e-05        61      1280: 100%|██████████| 251/251 [02:21<00:00,  1.78it/s]\n",
      "               Class     Images     Labels          P          R     mAP@.5 mAP@.5:.95: 100%|██████████| 6/6 [00:02<00:00,  2.38it/s]\n"
     ]
    },
    {
     "name": "stdout",
     "output_type": "stream",
     "text": [
      "                 all        189        273      0.653      0.483      0.488      0.271   2.34e-05\n"
     ]
    },
    {
     "name": "stderr",
     "output_type": "stream",
     "text": [
      "\n",
      "     Epoch   gpu_mem       box       obj       cls     other    labels  img_size\n",
      "    59/199     18.3G   0.01243  0.001948   0.00115 2.256e-05        55      1280: 100%|██████████| 251/251 [02:20<00:00,  1.79it/s]\n",
      "               Class     Images     Labels          P          R     mAP@.5 mAP@.5:.95: 100%|██████████| 6/6 [00:02<00:00,  2.39it/s]\n"
     ]
    },
    {
     "name": "stdout",
     "output_type": "stream",
     "text": [
      "                 all        189        273      0.695      0.457      0.492      0.276   2.37e-05\n"
     ]
    },
    {
     "name": "stderr",
     "output_type": "stream",
     "text": [
      "\n",
      "     Epoch   gpu_mem       box       obj       cls     other    labels  img_size\n",
      "    60/199     18.3G   0.01235  0.001958  0.001133 2.274e-05        79      1280:  61%|██████▏   | 154/251 [01:24<00:48,  1.99it/s]IOPub message rate exceeded.\n",
      "The Jupyter server will temporarily stop sending output\n",
      "to the client in order to avoid crashing it.\n",
      "To change this limit, set the config variable\n",
      "`--ServerApp.iopub_msg_rate_limit`.\n",
      "\n",
      "Current values:\n",
      "ServerApp.iopub_msg_rate_limit=1000.0 (msgs/sec)\n",
      "ServerApp.rate_limit_window=3.0 (secs)\n",
      "\n",
      "    69/199     18.3G   0.01246  0.002015  0.001139 2.244e-05        45      1280: 100%|██████████| 251/251 [02:23<00:00,  1.75it/s]\n",
      "               Class     Images     Labels          P          R     mAP@.5 mAP@.5:.95: 100%|██████████| 6/6 [00:02<00:00,  2.36it/s]\n"
     ]
    },
    {
     "name": "stdout",
     "output_type": "stream",
     "text": [
      "                 all        189        273      0.619      0.473       0.49       0.27   2.45e-05\n"
     ]
    },
    {
     "name": "stderr",
     "output_type": "stream",
     "text": [
      "\n",
      "     Epoch   gpu_mem       box       obj       cls     other    labels  img_size\n",
      "    70/199     18.3G    0.0124  0.001978  0.001161 2.208e-05        66      1280: 100%|██████████| 251/251 [02:21<00:00,  1.77it/s]\n",
      "               Class     Images     Labels          P          R     mAP@.5 mAP@.5:.95: 100%|██████████| 6/6 [00:02<00:00,  2.41it/s]\n"
     ]
    },
    {
     "name": "stdout",
     "output_type": "stream",
     "text": [
      "                 all        189        273      0.539      0.493      0.465       0.26   2.52e-05\n"
     ]
    },
    {
     "name": "stderr",
     "output_type": "stream",
     "text": [
      "\n",
      "     Epoch   gpu_mem       box       obj       cls     other    labels  img_size\n",
      "    71/199     18.3G   0.01214  0.001955  0.001078 2.093e-05        57      1280: 100%|██████████| 251/251 [02:23<00:00,  1.75it/s]\n",
      "               Class     Images     Labels          P          R     mAP@.5 mAP@.5:.95: 100%|██████████| 6/6 [00:02<00:00,  2.42it/s]\n"
     ]
    },
    {
     "name": "stdout",
     "output_type": "stream",
     "text": [
      "                 all        189        273       0.62      0.474      0.476      0.265   2.45e-05\n"
     ]
    },
    {
     "name": "stderr",
     "output_type": "stream",
     "text": [
      "\n",
      "     Epoch   gpu_mem       box       obj       cls     other    labels  img_size\n",
      "    72/199     18.3G   0.01196  0.001966  0.001025 2.178e-05        82      1280: 100%|██████████| 251/251 [02:21<00:00,  1.77it/s]\n",
      "               Class     Images     Labels          P          R     mAP@.5 mAP@.5:.95: 100%|██████████| 6/6 [00:02<00:00,  2.42it/s]\n"
     ]
    },
    {
     "name": "stdout",
     "output_type": "stream",
     "text": [
      "                 all        189        273      0.724      0.432      0.469      0.265   2.54e-05\n"
     ]
    },
    {
     "name": "stderr",
     "output_type": "stream",
     "text": [
      "\n",
      "     Epoch   gpu_mem       box       obj       cls     other    labels  img_size\n",
      "    73/199     18.3G   0.01219  0.001997  0.001166 2.095e-05        62      1280: 100%|██████████| 251/251 [02:21<00:00,  1.77it/s]\n",
      "               Class     Images     Labels          P          R     mAP@.5 mAP@.5:.95: 100%|██████████| 6/6 [00:02<00:00,  2.40it/s]\n"
     ]
    },
    {
     "name": "stdout",
     "output_type": "stream",
     "text": [
      "                 all        189        273      0.577      0.503      0.485      0.263   2.48e-05\n"
     ]
    },
    {
     "name": "stderr",
     "output_type": "stream",
     "text": [
      "\n",
      "     Epoch   gpu_mem       box       obj       cls     other    labels  img_size\n",
      "    74/199     18.3G    0.0124  0.001964  0.001185 2.077e-05        60      1280: 100%|██████████| 251/251 [02:22<00:00,  1.76it/s]\n",
      "               Class     Images     Labels          P          R     mAP@.5 mAP@.5:.95: 100%|██████████| 6/6 [00:02<00:00,  2.43it/s]\n"
     ]
    },
    {
     "name": "stdout",
     "output_type": "stream",
     "text": [
      "                 all        189        273      0.565      0.511      0.491      0.269   2.51e-05\n"
     ]
    },
    {
     "name": "stderr",
     "output_type": "stream",
     "text": [
      "\n",
      "     Epoch   gpu_mem       box       obj       cls     other    labels  img_size\n",
      "    75/199     18.3G   0.01191  0.001933  0.001136 2.154e-05        81      1280:  43%|████▎     | 107/251 [00:59<01:31,  1.57it/s]IOPub message rate exceeded.\n",
      "The Jupyter server will temporarily stop sending output\n",
      "to the client in order to avoid crashing it.\n",
      "To change this limit, set the config variable\n",
      "`--ServerApp.iopub_msg_rate_limit`.\n",
      "\n",
      "Current values:\n",
      "ServerApp.iopub_msg_rate_limit=1000.0 (msgs/sec)\n",
      "ServerApp.rate_limit_window=3.0 (secs)\n",
      "\n",
      "    84/199     18.3G   0.01187  0.001935  0.001092 2.098e-05        61      1280: 100%|██████████| 251/251 [02:23<00:00,  1.74it/s]\n",
      "               Class     Images     Labels          P          R     mAP@.5 mAP@.5:.95: 100%|██████████| 6/6 [00:02<00:00,  2.39it/s]\n"
     ]
    },
    {
     "name": "stdout",
     "output_type": "stream",
     "text": [
      "                 all        189        273       0.54      0.531       0.48      0.267   2.34e-05\n"
     ]
    },
    {
     "name": "stderr",
     "output_type": "stream",
     "text": [
      "\n",
      "     Epoch   gpu_mem       box       obj       cls     other    labels  img_size\n",
      "    85/199     18.3G   0.01174  0.001875  0.001018 2.101e-05        64      1280: 100%|██████████| 251/251 [02:21<00:00,  1.77it/s]\n",
      "               Class     Images     Labels          P          R     mAP@.5 mAP@.5:.95: 100%|██████████| 6/6 [00:02<00:00,  2.40it/s]\n"
     ]
    },
    {
     "name": "stdout",
     "output_type": "stream",
     "text": [
      "                 all        189        273      0.571       0.51      0.486      0.274   2.31e-05\n"
     ]
    },
    {
     "name": "stderr",
     "output_type": "stream",
     "text": [
      "\n",
      "     Epoch   gpu_mem       box       obj       cls     other    labels  img_size\n",
      "    86/199     18.3G   0.01192  0.001933  0.001089 2.028e-05        51      1280: 100%|██████████| 251/251 [02:21<00:00,  1.77it/s]\n",
      "               Class     Images     Labels          P          R     mAP@.5 mAP@.5:.95: 100%|██████████| 6/6 [00:02<00:00,  2.42it/s]\n"
     ]
    },
    {
     "name": "stdout",
     "output_type": "stream",
     "text": [
      "                 all        189        273      0.673      0.463      0.478       0.27   2.34e-05\n"
     ]
    },
    {
     "name": "stderr",
     "output_type": "stream",
     "text": [
      "\n",
      "     Epoch   gpu_mem       box       obj       cls     other    labels  img_size\n",
      "    87/199     18.3G   0.01165  0.001865  0.001012 2.181e-05        50      1280: 100%|██████████| 251/251 [02:20<00:00,  1.79it/s]\n",
      "               Class     Images     Labels          P          R     mAP@.5 mAP@.5:.95: 100%|██████████| 6/6 [00:02<00:00,  2.39it/s]\n"
     ]
    },
    {
     "name": "stdout",
     "output_type": "stream",
     "text": [
      "                 all        189        273      0.691      0.452      0.482       0.26   2.38e-05\n"
     ]
    },
    {
     "name": "stderr",
     "output_type": "stream",
     "text": [
      "\n",
      "     Epoch   gpu_mem       box       obj       cls     other    labels  img_size\n",
      "    88/199     18.3G   0.01199  0.001925  0.001062 2.118e-05        74      1280: 100%|██████████| 251/251 [02:21<00:00,  1.78it/s]\n",
      "               Class     Images     Labels          P          R     mAP@.5 mAP@.5:.95: 100%|██████████| 6/6 [00:02<00:00,  2.36it/s]\n"
     ]
    },
    {
     "name": "stdout",
     "output_type": "stream",
     "text": [
      "                 all        189        273      0.587      0.498      0.479      0.263   2.33e-05\n"
     ]
    },
    {
     "name": "stderr",
     "output_type": "stream",
     "text": [
      "\n",
      "     Epoch   gpu_mem       box       obj       cls     other    labels  img_size\n",
      "    89/199     18.3G   0.01171  0.001866  0.001082 2.195e-05        48      1280: 100%|██████████| 251/251 [02:23<00:00,  1.75it/s]\n",
      "               Class     Images     Labels          P          R     mAP@.5 mAP@.5:.95: 100%|██████████| 6/6 [00:02<00:00,  2.43it/s]\n"
     ]
    },
    {
     "name": "stdout",
     "output_type": "stream",
     "text": [
      "                 all        189        273      0.587      0.502      0.488      0.275   2.38e-05\n"
     ]
    },
    {
     "name": "stderr",
     "output_type": "stream",
     "text": [
      "\n",
      "     Epoch   gpu_mem       box       obj       cls     other    labels  img_size\n",
      "    90/199     18.3G   0.01168  0.001874  0.001055 2.104e-05        52      1280: 100%|██████████| 251/251 [02:23<00:00,  1.75it/s]\n",
      "               Class     Images     Labels          P          R     mAP@.5 mAP@.5:.95: 100%|██████████| 6/6 [00:02<00:00,  2.37it/s]\n"
     ]
    },
    {
     "name": "stdout",
     "output_type": "stream",
     "text": [
      "                 all        189        273      0.596      0.511      0.493      0.276   2.47e-05\n"
     ]
    },
    {
     "name": "stderr",
     "output_type": "stream",
     "text": [
      "\n",
      "     Epoch   gpu_mem       box       obj       cls     other    labels  img_size\n",
      "    91/199     18.3G   0.01169  0.001929  0.001069 2.052e-05        61      1280: 100%|██████████| 251/251 [02:22<00:00,  1.76it/s]\n",
      "               Class     Images     Labels          P          R     mAP@.5 mAP@.5:.95: 100%|██████████| 6/6 [00:02<00:00,  2.34it/s]\n"
     ]
    },
    {
     "name": "stdout",
     "output_type": "stream",
     "text": [
      "                 all        189        273      0.605      0.504      0.497      0.275    2.4e-05\n"
     ]
    },
    {
     "name": "stderr",
     "output_type": "stream",
     "text": [
      "\n",
      "     Epoch   gpu_mem       box       obj       cls     other    labels  img_size\n",
      "    92/199     18.3G   0.01148  0.001862 0.0009908 1.975e-05        58      1280: 100%|██████████| 251/251 [02:20<00:00,  1.78it/s]\n",
      "               Class     Images     Labels          P          R     mAP@.5 mAP@.5:.95: 100%|██████████| 6/6 [00:02<00:00,  2.41it/s]\n"
     ]
    },
    {
     "name": "stdout",
     "output_type": "stream",
     "text": [
      "                 all        189        273      0.641      0.491      0.491      0.268   2.29e-05\n"
     ]
    },
    {
     "name": "stderr",
     "output_type": "stream",
     "text": [
      "\n",
      "     Epoch   gpu_mem       box       obj       cls     other    labels  img_size\n",
      "    93/199     18.3G   0.01179  0.001875  0.001062 2.027e-05        66      1280: 100%|██████████| 251/251 [02:22<00:00,  1.76it/s]\n",
      "               Class     Images     Labels          P          R     mAP@.5 mAP@.5:.95: 100%|██████████| 6/6 [00:02<00:00,  2.37it/s]\n"
     ]
    },
    {
     "name": "stdout",
     "output_type": "stream",
     "text": [
      "                 all        189        273      0.612      0.494      0.484      0.272   2.49e-05\n"
     ]
    },
    {
     "name": "stderr",
     "output_type": "stream",
     "text": [
      "\n",
      "     Epoch   gpu_mem       box       obj       cls     other    labels  img_size\n",
      "    94/199     18.3G   0.01157  0.001892  0.001009 2.009e-05        50      1280: 100%|██████████| 251/251 [02:22<00:00,  1.76it/s]\n",
      "               Class     Images     Labels          P          R     mAP@.5 mAP@.5:.95: 100%|██████████| 6/6 [00:02<00:00,  2.37it/s]\n"
     ]
    },
    {
     "name": "stdout",
     "output_type": "stream",
     "text": [
      "                 all        189        273      0.615      0.488      0.483      0.271   2.36e-05\n"
     ]
    },
    {
     "name": "stderr",
     "output_type": "stream",
     "text": [
      "\n",
      "     Epoch   gpu_mem       box       obj       cls     other    labels  img_size\n",
      "    95/199     18.3G    0.0114  0.001858   0.00096 1.925e-05        41      1280: 100%|██████████| 251/251 [02:21<00:00,  1.78it/s]\n",
      "               Class     Images     Labels          P          R     mAP@.5 mAP@.5:.95: 100%|██████████| 6/6 [00:02<00:00,  2.39it/s]\n"
     ]
    },
    {
     "name": "stdout",
     "output_type": "stream",
     "text": [
      "                 all        189        273      0.659      0.481      0.485      0.269   2.34e-05\n"
     ]
    },
    {
     "name": "stderr",
     "output_type": "stream",
     "text": [
      "\n",
      "     Epoch   gpu_mem       box       obj       cls     other    labels  img_size\n",
      "    96/199     18.3G   0.01177  0.001894  0.001002 2.051e-05        56      1280: 100%|██████████| 251/251 [02:24<00:00,  1.74it/s]\n",
      "               Class     Images     Labels          P          R     mAP@.5 mAP@.5:.95: 100%|██████████| 6/6 [00:02<00:00,  2.38it/s]\n"
     ]
    },
    {
     "name": "stdout",
     "output_type": "stream",
     "text": [
      "                 all        189        273      0.634      0.488      0.479      0.269   2.28e-05\n"
     ]
    },
    {
     "name": "stderr",
     "output_type": "stream",
     "text": [
      "\n",
      "     Epoch   gpu_mem       box       obj       cls     other    labels  img_size\n",
      "    97/199     18.3G   0.01163  0.001905  0.001007 1.916e-05        41      1280: 100%|██████████| 251/251 [02:22<00:00,  1.76it/s]\n",
      "               Class     Images     Labels          P          R     mAP@.5 mAP@.5:.95: 100%|██████████| 6/6 [00:02<00:00,  2.41it/s]\n"
     ]
    },
    {
     "name": "stdout",
     "output_type": "stream",
     "text": [
      "                 all        189        273      0.632      0.485       0.48      0.261   2.26e-05\n"
     ]
    },
    {
     "name": "stderr",
     "output_type": "stream",
     "text": [
      "\n",
      "     Epoch   gpu_mem       box       obj       cls     other    labels  img_size\n",
      "    98/199     18.3G   0.01175  0.001919  0.001123 2.071e-05        57      1280: 100%|██████████| 251/251 [02:23<00:00,  1.75it/s]\n",
      "               Class     Images     Labels          P          R     mAP@.5 mAP@.5:.95: 100%|██████████| 6/6 [00:02<00:00,  2.40it/s]\n"
     ]
    },
    {
     "name": "stdout",
     "output_type": "stream",
     "text": [
      "                 all        189        273      0.582      0.505      0.478      0.267   2.27e-05\n"
     ]
    },
    {
     "name": "stderr",
     "output_type": "stream",
     "text": [
      "\n",
      "     Epoch   gpu_mem       box       obj       cls     other    labels  img_size\n",
      "    99/199     18.3G   0.01128  0.001839 0.0009764 1.951e-05        68      1280: 100%|██████████| 251/251 [02:20<00:00,  1.79it/s]\n",
      "               Class     Images     Labels          P          R     mAP@.5 mAP@.5:.95: 100%|██████████| 6/6 [00:02<00:00,  2.35it/s]\n"
     ]
    },
    {
     "name": "stdout",
     "output_type": "stream",
     "text": [
      "                 all        189        273      0.647      0.489      0.482      0.266   2.24e-05\n"
     ]
    },
    {
     "name": "stderr",
     "output_type": "stream",
     "text": [
      "\n",
      "     Epoch   gpu_mem       box       obj       cls     other    labels  img_size\n",
      "   100/199     18.3G   0.01147  0.001813 0.0009767 2.075e-05        45      1280: 100%|██████████| 251/251 [02:18<00:00,  1.81it/s]\n",
      "               Class     Images     Labels          P          R     mAP@.5 mAP@.5:.95: 100%|██████████| 6/6 [00:02<00:00,  2.38it/s]\n"
     ]
    },
    {
     "name": "stdout",
     "output_type": "stream",
     "text": [
      "                 all        189        273      0.684      0.475      0.482      0.263   2.25e-05\n"
     ]
    },
    {
     "name": "stderr",
     "output_type": "stream",
     "text": [
      "\n",
      "     Epoch   gpu_mem       box       obj       cls     other    labels  img_size\n",
      "   101/199     18.3G   0.01114  0.001822 0.0009133 2.063e-05        53      1280: 100%|██████████| 251/251 [02:21<00:00,  1.78it/s]\n",
      "               Class     Images     Labels          P          R     mAP@.5 mAP@.5:.95: 100%|██████████| 6/6 [00:02<00:00,  2.39it/s]\n"
     ]
    },
    {
     "name": "stdout",
     "output_type": "stream",
     "text": [
      "                 all        189        273      0.699       0.48      0.485      0.264   2.31e-05\n"
     ]
    },
    {
     "name": "stderr",
     "output_type": "stream",
     "text": [
      "\n",
      "     Epoch   gpu_mem       box       obj       cls     other    labels  img_size\n",
      "   102/199     18.3G   0.01141  0.001847 0.0009831 2.066e-05        67      1280: 100%|██████████| 251/251 [02:21<00:00,  1.77it/s]\n",
      "               Class     Images     Labels          P          R     mAP@.5 mAP@.5:.95: 100%|██████████| 6/6 [00:02<00:00,  2.39it/s]\n"
     ]
    },
    {
     "name": "stdout",
     "output_type": "stream",
     "text": [
      "                 all        189        273      0.588       0.51       0.48      0.264   2.25e-05\n"
     ]
    },
    {
     "name": "stderr",
     "output_type": "stream",
     "text": [
      "\n",
      "     Epoch   gpu_mem       box       obj       cls     other    labels  img_size\n",
      "   103/199     18.3G   0.01141  0.001878  0.001011 1.956e-05        72      1280: 100%|██████████| 251/251 [02:22<00:00,  1.76it/s]\n",
      "               Class     Images     Labels          P          R     mAP@.5 mAP@.5:.95: 100%|██████████| 6/6 [00:02<00:00,  2.37it/s]\n"
     ]
    },
    {
     "name": "stdout",
     "output_type": "stream",
     "text": [
      "                 all        189        273      0.585      0.506      0.484      0.262   2.35e-05\n"
     ]
    },
    {
     "name": "stderr",
     "output_type": "stream",
     "text": [
      "\n",
      "     Epoch   gpu_mem       box       obj       cls     other    labels  img_size\n",
      "   104/199     18.3G   0.01163  0.001849  0.001015 1.949e-05        68      1280: 100%|██████████| 251/251 [02:23<00:00,  1.75it/s]\n",
      "               Class     Images     Labels          P          R     mAP@.5 mAP@.5:.95: 100%|██████████| 6/6 [00:02<00:00,  2.38it/s]\n"
     ]
    },
    {
     "name": "stdout",
     "output_type": "stream",
     "text": [
      "                 all        189        273      0.643      0.475      0.486      0.266    2.5e-05\n"
     ]
    },
    {
     "name": "stderr",
     "output_type": "stream",
     "text": [
      "\n",
      "     Epoch   gpu_mem       box       obj       cls     other    labels  img_size\n",
      "   105/199     18.3G   0.01138  0.001878  0.001051 2.065e-05        57      1280: 100%|██████████| 251/251 [02:23<00:00,  1.74it/s]\n",
      "               Class     Images     Labels          P          R     mAP@.5 mAP@.5:.95: 100%|██████████| 6/6 [00:02<00:00,  2.41it/s]\n"
     ]
    },
    {
     "name": "stdout",
     "output_type": "stream",
     "text": [
      "                 all        189        273      0.653      0.476      0.479       0.26   2.39e-05\n"
     ]
    },
    {
     "name": "stderr",
     "output_type": "stream",
     "text": [
      "\n",
      "     Epoch   gpu_mem       box       obj       cls     other    labels  img_size\n",
      "   106/199     18.3G   0.01149  0.001869  0.001031 1.955e-05        82      1280: 100%|██████████| 251/251 [02:21<00:00,  1.78it/s]\n",
      "               Class     Images     Labels          P          R     mAP@.5 mAP@.5:.95: 100%|██████████| 6/6 [00:02<00:00,  2.39it/s]\n"
     ]
    },
    {
     "name": "stdout",
     "output_type": "stream",
     "text": [
      "                 all        189        273      0.667      0.457       0.48      0.265    2.4e-05\n"
     ]
    },
    {
     "name": "stderr",
     "output_type": "stream",
     "text": [
      "\n",
      "     Epoch   gpu_mem       box       obj       cls     other    labels  img_size\n",
      "   107/199     18.3G   0.01141  0.001851 0.0009107 1.889e-05        68      1280: 100%|██████████| 251/251 [02:19<00:00,  1.80it/s]\n",
      "               Class     Images     Labels          P          R     mAP@.5 mAP@.5:.95: 100%|██████████| 6/6 [00:02<00:00,  2.38it/s]\n"
     ]
    },
    {
     "name": "stdout",
     "output_type": "stream",
     "text": [
      "                 all        189        273      0.625      0.472      0.482      0.264   2.32e-05\n"
     ]
    },
    {
     "name": "stderr",
     "output_type": "stream",
     "text": [
      "\n",
      "     Epoch   gpu_mem       box       obj       cls     other    labels  img_size\n",
      "   108/199     18.3G   0.01154  0.001865  0.001051 2.038e-05        56      1280: 100%|██████████| 251/251 [02:21<00:00,  1.77it/s]\n",
      "               Class     Images     Labels          P          R     mAP@.5 mAP@.5:.95: 100%|██████████| 6/6 [00:02<00:00,  2.45it/s]\n"
     ]
    },
    {
     "name": "stdout",
     "output_type": "stream",
     "text": [
      "                 all        189        273      0.677      0.451      0.479      0.261   2.43e-05\n"
     ]
    },
    {
     "name": "stderr",
     "output_type": "stream",
     "text": [
      "\n",
      "     Epoch   gpu_mem       box       obj       cls     other    labels  img_size\n",
      "   109/199     18.3G   0.01112  0.001852  0.000969 1.972e-05        37      1280: 100%|██████████| 251/251 [02:22<00:00,  1.76it/s]\n",
      "               Class     Images     Labels          P          R     mAP@.5 mAP@.5:.95: 100%|██████████| 6/6 [00:02<00:00,  2.40it/s]\n"
     ]
    },
    {
     "name": "stdout",
     "output_type": "stream",
     "text": [
      "                 all        189        273      0.652      0.471      0.479      0.265   2.44e-05\n"
     ]
    },
    {
     "name": "stderr",
     "output_type": "stream",
     "text": [
      "EarlyStopping patience 30 exceeded, stopping training.\n",
      "\n",
      "110 epochs completed in 4.613 hours.\n"
     ]
    },
    {
     "name": "stdout",
     "output_type": "stream",
     "text": [
      "Optimizer stripped from runs/train/wo_other_blbf4/weights/last.pt, 154.1MB\n",
      "Optimizer stripped from runs/train/wo_other_blbf4/weights/best.pt, 154.1MB\n"
     ]
    },
    {
     "name": "stderr",
     "output_type": "stream",
     "text": [
      "Results saved to \u001b[1mruns/train/wo_other_blbf4\u001b[0m\n"
     ]
    }
   ],
   "source": [
    "# best wo_other_bl2\n",
    "train.run(data='bpjt.yaml',\n",
    "          weights='runs/train/wo_other_bl2/weights/best.pt',\n",
    "          imgsz=1280,\n",
    "          batch_size=16,\n",
    "          epochs=200,\n",
    "          name='wo_other_blbf',\n",
    "#           cfg='models/hub/yolov5l6o.yaml',\n",
    "          hyp='data/hyps/hyp.finetune.yaml',\n",
    "          freeze=10 \n",
    "         )"
   ]
  },
  {
   "cell_type": "code",
   "execution_count": 22,
   "metadata": {},
   "outputs": [
    {
     "ename": "SyntaxError",
     "evalue": "two starred expressions in assignment (<ipython-input-22-3b7279d7aaef>, line 2)",
     "output_type": "error",
     "traceback": [
      "\u001b[0;36m  File \u001b[0;32m\"<ipython-input-22-3b7279d7aaef>\"\u001b[0;36m, line \u001b[0;32m2\u001b[0m\n\u001b[0;31m    *b,c,d,*d = a\u001b[0m\n\u001b[0m    ^\u001b[0m\n\u001b[0;31mSyntaxError\u001b[0m\u001b[0;31m:\u001b[0m two starred expressions in assignment\n"
     ]
    }
   ],
   "source": [
    "a = [1,2,3,4,5,6,7,8]\n",
    "*b,c,d = a\n",
    "\n",
    "b"
   ]
  },
  {
   "cell_type": "code",
   "execution_count": 27,
   "metadata": {},
   "outputs": [
    {
     "name": "stdout",
     "output_type": "stream",
     "text": [
      "\u001b[34m\u001b[1mval: \u001b[0mdata=./data/bpjt.yaml, weights=['runs/train/wo_other_blbf4/weights/best.pt'], batch_size=16, imgsz=1280, conf_thres=0.001, iou_thres=0.6, task=val, device=, single_cls=False, augment=False, verbose=False, save_txt=False, save_hybrid=False, save_conf=False, save_json=False, project=runs/val, name=exp, exist_ok=False, half=False\n",
      "YOLOv5 🚀 v5.0-406-g7b64e1d torch 1.8.1+cu102 CUDA:0 (Tesla V100-SXM2-32GB, 32480.5MB)\n",
      "\n",
      "Fusing layers... \n",
      "Model Summary: 501 layers, 76649412 parameters, 0 gradients, 116.4 GFLOPs\n",
      "\u001b[34m\u001b[1mval: \u001b[0mScanning 'sym_data/wo_others/val/labels.cache' images and labels... 168 fou\u001b[0m\n",
      "               Class     Images     Labels          P          R     mAP@.5 mAP@\u001b[A\n",
      "\u001b[34m\u001b[1mval: \u001b[0mScanning 'sym_data/wo_others/val/labels.cache' images and labels... 168 fou\u001b[0m\n",
      "\n",
      "               Class     Images     Labels          P          R     mAP@.5 mAP@\u001b[A\n",
      "               Class     Images     Labels          P          R     mAP@.5 mAP@\u001b[A\n",
      "               Class     Images     Labels          P          R     mAP@.5 mAP@\u001b[A\n",
      "               Class     Images     Labels          P          R     mAP@.5 mAP@\u001b[A\n",
      "               Class     Images     Labels          P          R     mAP@.5 mAP@\u001b[A\n",
      "               Class     Images     Labels          P          R     mAP@.5 mAP@\u001b[A\n",
      "               Class     Images     Labels          P          R     mAP@.5 mAP@\u001b[A\n",
      "               Class     Images     Labels          P          R     mAP@.5 mAP@\u001b[A\n",
      "               Class     Images     Labels          P          R     mAP@.5 mAP@\u001b[A\n",
      "               Class     Images     Labels          P          R     mAP@.5 mAP@\u001b[A\n",
      "               Class     Images     Labels          P          R     mAP@.5 mAP@\u001b[A\n",
      "                 all        189        273      0.616      0.481      0.495      0.284          0\n",
      "               retak        189        142      0.478      0.331      0.279      0.134\n",
      "   retak kulit buaya        189         23      0.788      0.609      0.692      0.334\n",
      "              lubang        189         36      0.577      0.639      0.634      0.357\n",
      "         retak sudut        189         21      0.696      0.571      0.579       0.45\n",
      "              gumpal        189         51       0.54      0.255      0.291      0.145\n",
      "Speed: 0.3ms pre-process, 20.7ms inference, 1.5ms NMS per image at shape (16, 3, 1280, 1280)\n",
      "Results saved to \u001b[1mruns/val/exp13\u001b[0m\n"
     ]
    }
   ],
   "source": [
    "!python val.py --img 1280 --batch 16 --data bpjt.yaml --weights runs/train/wo_other_blbf4/weights/best.pt"
   ]
  },
  {
   "cell_type": "code",
   "execution_count": 11,
   "metadata": {},
   "outputs": [
    {
     "name": "stdout",
     "output_type": "stream",
     "text": [
      "\u001b[34m\u001b[1mval: \u001b[0mdata=./data/bpjt.yaml, weights=['runs/train/wo_other_bl100/weights/best.pt'], batch_size=16, imgsz=1280, conf_thres=0.001, iou_thres=0.6, task=val, device=, single_cls=False, augment=False, verbose=False, save_txt=False, save_hybrid=False, save_conf=False, save_json=False, project=runs/val, name=exp, exist_ok=False, half=False\n",
      "YOLOv5 🚀 v5.0-406-g7b64e1d torch 1.8.1+cu102 CUDA:0 (Tesla V100-SXM2-32GB, 32480.5MB)\n",
      "\n",
      "Fusing layers... \n",
      "Model Summary: 501 layers, 76649412 parameters, 0 gradients, 116.4 GFLOPs\n",
      "\u001b[34m\u001b[1mval: \u001b[0mScanning 'sym_data/wo_others/val/labels.cache' images and labels... 168 fou\u001b[0m\n",
      "               Class     Images     Labels          P          R     mAP@.5 mAP@\u001b[A\n",
      "\u001b[34m\u001b[1mval: \u001b[0mScanning 'sym_data/wo_others/val/labels.cache' images and labels... 168 fou\u001b[0m\n",
      "\n",
      "               Class     Images     Labels          P          R     mAP@.5 mAP@\u001b[A\n",
      "               Class     Images     Labels          P          R     mAP@.5 mAP@\u001b[A\n",
      "               Class     Images     Labels          P          R     mAP@.5 mAP@\u001b[A\n",
      "               Class     Images     Labels          P          R     mAP@.5 mAP@\u001b[A\n",
      "               Class     Images     Labels          P          R     mAP@.5 mAP@\u001b[A\n",
      "               Class     Images     Labels          P          R     mAP@.5 mAP@\u001b[A\n",
      "               Class     Images     Labels          P          R     mAP@.5 mAP@\u001b[A\n",
      "               Class     Images     Labels          P          R     mAP@.5 mAP@\u001b[A\n",
      "               Class     Images     Labels          P          R     mAP@.5 mAP@\u001b[A\n",
      "               Class     Images     Labels          P          R     mAP@.5 mAP@\u001b[A\n",
      "               Class     Images     Labels          P          R     mAP@.5 mAP@\u001b[A\n",
      "                 all        189        273      0.615      0.402       0.42      0.216          0\n",
      "               retak        189        142       0.46      0.169      0.212     0.0912\n",
      "   retak kulit buaya        189         23        0.9      0.565      0.595      0.295\n",
      "              lubang        189         36      0.607      0.639      0.576      0.297\n",
      "         retak sudut        189         21      0.645      0.381      0.467      0.301\n",
      "              gumpal        189         51      0.464      0.255      0.249     0.0969\n",
      "Speed: 0.3ms pre-process, 20.7ms inference, 1.7ms NMS per image at shape (16, 3, 1280, 1280)\n",
      "Results saved to \u001b[1mruns/val/exp4\u001b[0m\n"
     ]
    }
   ],
   "source": [
    "!python val.py --img 1280 --batch 16 --data bpjt.yaml --weights runs/train/wo_other_bl100/weights/best.pt"
   ]
  },
  {
   "cell_type": "code",
   "execution_count": 12,
   "metadata": {},
   "outputs": [
    {
     "name": "stdout",
     "output_type": "stream",
     "text": [
      "\u001b[34m\u001b[1mval: \u001b[0mdata=./data/bpjt.yaml, weights=['runs/train/wo_other_bl2/weights/best.pt'], batch_size=16, imgsz=1280, conf_thres=0.001, iou_thres=0.6, task=val, device=, single_cls=False, augment=False, verbose=False, save_txt=False, save_hybrid=False, save_conf=False, save_json=False, project=runs/val, name=exp, exist_ok=False, half=False\n",
      "YOLOv5 🚀 v5.0-406-g7b64e1d torch 1.8.1+cu102 CUDA:0 (Tesla V100-SXM2-32GB, 32480.5MB)\n",
      "\n",
      "Fusing layers... \n",
      "Model Summary: 501 layers, 76649412 parameters, 0 gradients, 116.4 GFLOPs\n",
      "\u001b[34m\u001b[1mval: \u001b[0mScanning 'sym_data/wo_others/val/labels.cache' images and labels... 168 fou\u001b[0m\n",
      "               Class     Images     Labels          P          R     mAP@.5 mAP@\u001b[A\n",
      "\u001b[34m\u001b[1mval: \u001b[0mScanning 'sym_data/wo_others/val/labels.cache' images and labels... 168 fou\u001b[0m\n",
      "\n",
      "               Class     Images     Labels          P          R     mAP@.5 mAP@\u001b[A\n",
      "               Class     Images     Labels          P          R     mAP@.5 mAP@\u001b[A\n",
      "               Class     Images     Labels          P          R     mAP@.5 mAP@\u001b[A\n",
      "               Class     Images     Labels          P          R     mAP@.5 mAP@\u001b[A\n",
      "               Class     Images     Labels          P          R     mAP@.5 mAP@\u001b[A\n",
      "               Class     Images     Labels          P          R     mAP@.5 mAP@\u001b[A\n",
      "               Class     Images     Labels          P          R     mAP@.5 mAP@\u001b[A\n",
      "               Class     Images     Labels          P          R     mAP@.5 mAP@\u001b[A\n",
      "               Class     Images     Labels          P          R     mAP@.5 mAP@\u001b[A\n",
      "               Class     Images     Labels          P          R     mAP@.5 mAP@\u001b[A\n",
      "               Class     Images     Labels          P          R     mAP@.5 mAP@\u001b[A\n",
      "                 all        189        273      0.644      0.433      0.441      0.228          0\n",
      "               retak        189        142       0.45      0.197      0.225     0.0895\n",
      "   retak kulit buaya        189         23      0.947      0.652       0.68      0.335\n",
      "              lubang        189         36      0.571      0.611      0.581      0.312\n",
      "         retak sudut        189         21      0.692      0.428      0.457      0.293\n",
      "              gumpal        189         51      0.559      0.274      0.263      0.112\n",
      "Speed: 0.3ms pre-process, 20.6ms inference, 1.6ms NMS per image at shape (16, 3, 1280, 1280)\n",
      "Results saved to \u001b[1mruns/val/exp5\u001b[0m\n"
     ]
    }
   ],
   "source": [
    "!python val.py --img 1280 --batch 16 --data bpjt.yaml --weights runs/train/wo_other_bl2/weights/best.pt"
   ]
  },
  {
   "cell_type": "code",
   "execution_count": 28,
   "metadata": {},
   "outputs": [
    {
     "name": "stderr",
     "output_type": "stream",
     "text": [
      "YOLOv5 🚀 v5.0-406-g7b64e1d torch 1.8.1+cu102 CUDA:0 (Tesla V100-SXM2-32GB, 32480.5MB)\n",
      "\n",
      "Fusing layers... \n",
      "Model Summary: 501 layers, 76649412 parameters, 0 gradients, 116.4 GFLOPs\n",
      "Adding AutoShape... \n"
     ]
    }
   ],
   "source": [
    "model = torch.hub.load('.', 'custom', path='runs/train/wo_other_blbf4/weights/best.pt', source='local')\n"
   ]
  },
  {
   "cell_type": "code",
   "execution_count": 12,
   "metadata": {},
   "outputs": [
    {
     "data": {
      "text/plain": [
       "11"
      ]
     },
     "execution_count": 12,
     "metadata": {},
     "output_type": "execute_result"
    }
   ],
   "source": [
    "from utils.datasets import create_dataloader\n"
   ]
  },
  {
   "cell_type": "code",
   "execution_count": 3,
   "metadata": {},
   "outputs": [],
   "source": [
    "from models.experimental import attempt_load\n",
    "model = attempt_load('runs/train/exp/weights/best.pt', map_location='cuda')\n",
    "\n"
   ]
  },
  {
   "cell_type": "code",
   "execution_count": null,
   "metadata": {},
   "outputs": [],
   "source": []
  },
  {
   "cell_type": "code",
   "execution_count": 13,
   "metadata": {},
   "outputs": [],
   "source": [
    "from models.common import AutoShape\n",
    "from utils.torch_utils import copy_attr\n",
    "m = AutoShape(model)\n",
    "copy_attr(m, model, include=('yaml', 'nc', 'hyp', 'names', 'stride'), exclude=()) "
   ]
  },
  {
   "cell_type": "code",
   "execution_count": 32,
   "metadata": {},
   "outputs": [
    {
     "name": "stdout",
     "output_type": "stream",
     "text": [
      "[tensor([[  9.32812,  91.31250,  25.73438, 229.75000,   0.60986,   4.00000,   0.50928]], device='cuda:0')]\n",
      "here\n"
     ]
    }
   ],
   "source": [
    "img_size = 640\n",
    "imgs = [Image.open('sym_data/wo_others/val/images/F-36.jpg')]\n",
    "\n",
    "results = model(imgs, size=img_size) \n",
    "# results.pandas().xyxy[0]"
   ]
  },
  {
   "cell_type": "code",
   "execution_count": 34,
   "metadata": {},
   "outputs": [
    {
     "data": {
      "text/plain": [
       "[tensor([[3.94113e+01, 3.34595e+02, 1.08728e+02, 9.19494e+02, 6.09863e-01, 4.00000e+00, 5.09277e-01]], device='cuda:0')]"
      ]
     },
     "execution_count": 34,
     "metadata": {},
     "output_type": "execute_result"
    }
   ],
   "source": [
    "results.xyxy"
   ]
  },
  {
   "cell_type": "code",
   "execution_count": 22,
   "metadata": {},
   "outputs": [
    {
     "data": {
      "text/plain": [
       "[tensor([], device='cuda:0', size=(0, 7))]"
      ]
     },
     "execution_count": 22,
     "metadata": {},
     "output_type": "execute_result"
    }
   ],
   "source": [
    "results.pred"
   ]
  },
  {
   "cell_type": "raw",
   "metadata": {},
   "source": [
    "!python val.py --img 1280 --batch 8 --data bpjt_balance.yaml --weights runs/train/wo_other_bluf/weights/best.pt\n",
    "!python train.py --img 1280 --batch 16 --epochs 50 --data bpjt_balance.yaml --name wo_other_bl --weights runs/train/wo_other/weights/best.pt --hyp data/hyps/hyp.finetune.yaml --freeze 33"
   ]
  },
  {
   "cell_type": "code",
   "execution_count": null,
   "metadata": {},
   "outputs": [],
   "source": [
    "!python val.py --weights yolov5x.pt --data bpjt.yaml "
   ]
  },
  {
   "cell_type": "code",
   "execution_count": 25,
   "metadata": {},
   "outputs": [
    {
     "name": "stdout",
     "output_type": "stream",
     "text": [
      "\u001b[34m\u001b[1mtrain: \u001b[0mweights=yolov5s.pt, cfg=models/yolov5sm.yaml, data=bpjt.yaml, hyp=data/hyps/hyp.scratch.yaml, epochs=2, batch_size=8, imgsz=640, rect=False, resume=False, nosave=False, noval=False, noautoanchor=False, evolve=None, bucket=, cache=None, image_weights=False, device=, multi_scale=False, single_cls=False, adam=False, sync_bn=False, workers=8, project=runs/train, entity=None, name=exp, exist_ok=False, quad=False, linear_lr=False, label_smoothing=0.0, upload_dataset=False, bbox_interval=-1, save_period=-1, artifact_alias=latest, local_rank=-1, freeze=0, patience=30\n",
      "\u001b[34m\u001b[1mgithub: \u001b[0mup to date with https://github.com/sykrn/yolov5 ✅\n",
      "YOLOv5 🚀 v5.0-405-gfad57c2 torch 1.9.0 CUDA:0 (GeForce GTX 1650, 3902.4375MB)\n",
      "\n",
      "\u001b[34m\u001b[1mhyperparameters: \u001b[0mlr0=0.01, lrf=0.2, momentum=0.937, weight_decay=0.0005, warmup_epochs=3.0, warmup_momentum=0.8, warmup_bias_lr=0.1, box=0.15, cls=0.5, cls_pw=1.0, obj=1.0, obj_pw=1.0, iou_t=0.2, anchor_t=4.0, fl_gamma=0.0, hsv_h=0.015, hsv_s=0.7, hsv_v=0.4, degrees=0.0, translate=0.1, scale=0.5, shear=0.0, perspective=0.0, flipud=0.0, fliplr=0.5, mosaic=1.0, mixup=0.0, copy_paste=0.0\n",
      "\u001b[34m\u001b[1mWeights & Biases: \u001b[0mrun 'pip install wandb' to automatically track and visualize YOLOv5 🚀 runs (RECOMMENDED)\n",
      "\u001b[34m\u001b[1mTensorBoard: \u001b[0mStart with 'tensorboard --logdir runs/train', view at http://localhost:6006/\n",
      "Overriding model.yaml nc=80 with nc=5\n",
      "\n",
      "                 from  n    params  module                                  arguments                     \n",
      "  0                -1  1      3520  models.common.Focus                     [3, 32, 3]                    \n",
      "  1                -1  1     18560  models.common.Conv                      [32, 64, 3, 2]                \n",
      "  2                -1  1     18816  models.common.C3                        [64, 64, 1]                   \n",
      "  3                -1  1     73984  models.common.Conv                      [64, 128, 3, 2]               \n",
      "  4                -1  3    156928  models.common.C3                        [128, 128, 3]                 \n",
      "  5                -1  1    295424  models.common.Conv                      [128, 256, 3, 2]              \n",
      "  6                -1  3    625152  models.common.C3                        [256, 256, 3]                 \n",
      "  7                -1  1   1180672  models.common.Conv                      [256, 512, 3, 2]              \n",
      "  8                -1  1    656896  models.common.SPP                       [512, 512, [5, 9, 13]]        \n",
      "  9                -1  1   1182720  models.common.C3                        [512, 512, 1, False]          \n",
      " 10                -1  1    131584  models.common.Conv                      [512, 256, 1, 1]              \n",
      " 11                -1  1         0  torch.nn.modules.upsampling.Upsample    [None, 2, 'nearest']          \n",
      " 12           [-1, 6]  1         0  models.common.Concat                    [1]                           \n",
      " 13                -1  1    361984  models.common.C3                        [512, 256, 1, False]          \n",
      " 14                -1  1     33024  models.common.Conv                      [256, 128, 1, 1]              \n",
      " 15                -1  1         0  torch.nn.modules.upsampling.Upsample    [None, 2, 'nearest']          \n",
      " 16           [-1, 4]  1         0  models.common.Concat                    [1]                           \n",
      " 17                -1  1     90880  models.common.C3                        [256, 128, 1, False]          \n",
      " 18                -1  1    147712  models.common.Conv                      [128, 128, 3, 2]              \n",
      " 19          [-1, 14]  1         0  models.common.Concat                    [1]                           \n",
      " 20                -1  1    296448  models.common.C3                        [256, 256, 1, False]          \n",
      " 21                -1  1    590336  models.common.Conv                      [256, 256, 3, 2]              \n",
      " 22          [-1, 10]  1         0  models.common.Concat                    [1]                           \n",
      " 23                -1  1   1182720  models.common.C3                        [512, 512, 1, False]          \n",
      " 24      [17, 20, 23]  1     29667  models.yolo.Detect                      [5, [[10, 13, 16, 30, 33, 23], [30, 61, 62, 45, 59, 119], [116, 90, 156, 198, 373, 326]], 1, [128, 256, 512]]\n",
      "Model Summary: 283 layers, 7077027 parameters, 7077027 gradients, 16.4 GFLOPs\n",
      "\n",
      "Transferred 354/362 items from yolov5s.pt\n",
      "Scaled weight_decay = 0.0005\n",
      "\u001b[34m\u001b[1moptimizer:\u001b[0m SGD with parameter groups 59 weight, 62 weight (no decay), 62 bias\n",
      "\u001b[34m\u001b[1mtrain: \u001b[0mScanning 'sym_data/wo_others/train/labels.cache' images and labels... 401\u001b[0m\n",
      "\u001b[34m\u001b[1mval: \u001b[0mScanning 'sym_data/wo_others/val/labels.cache' images and labels... 168 fou\u001b[0m\n",
      "[W pthreadpool-cpp.cc:90] Warning: Leaking Caffe2 thread-pool after fork. (function pthreadpool)\n",
      "[W pthreadpool-cpp.cc:90] Warning: Leaking Caffe2 thread-pool after fork. (function pthreadpool)\n",
      "[W pthreadpool-cpp.cc:90] Warning: Leaking Caffe2 thread-pool after fork. (function pthreadpool)\n",
      "[W pthreadpool-cpp.cc:90] Warning: Leaking Caffe2 thread-pool after fork. (function pthreadpool)\n",
      "Plotting labels... \n",
      "[W pthreadpool-cpp.cc:90] Warning: Leaking Caffe2 thread-pool after fork. (function pthreadpool)\n",
      "[W pthreadpool-cpp.cc:90] Warning: Leaking Caffe2 thread-pool after fork. (function pthreadpool)\n",
      "[W pthreadpool-cpp.cc:90] Warning: Leaking Caffe2 thread-pool after fork. (function pthreadpool)\n",
      "[W pthreadpool-cpp.cc:90] Warning: Leaking Caffe2 thread-pool after fork. (function pthreadpool)\n",
      "\n",
      "\u001b[34m\u001b[1mautoanchor: \u001b[0mAnalyzing anchors... anchors/target = 3.63, Best Possible Recall (BPR) = 0.9738. Attempting to improve anchors, please wait...\n",
      "\u001b[34m\u001b[1mautoanchor: \u001b[0mWARNING: Extremely small objects found. 33 of 8435 labels are < 3 pixels in size.\n",
      "\u001b[34m\u001b[1mautoanchor: \u001b[0mRunning kmeans for 9 anchors on 8435 points...\n",
      "\u001b[34m\u001b[1mautoanchor: \u001b[0mthr=0.25: 0.9557 best possible recall, 2.90 anchors past thr\n",
      "\u001b[34m\u001b[1mautoanchor: \u001b[0mn=9, img_size=640, metric_all=0.220/0.578-mean/best, past_thr=0.444-mean: 29,26,  28,92,  110,44,  54,187,  241,63,  59,330,  498,66,  200,280,  470,316\n",
      "\u001b[34m\u001b[1mautoanchor: \u001b[0mEvolving anchors with Genetic Algorithm: fitness = 0.6443: 100%|█| 1\u001b[0m\n",
      "\u001b[34m\u001b[1mautoanchor: \u001b[0mthr=0.25: 0.9941 best possible recall, 2.96 anchors past thr\n",
      "\u001b[34m\u001b[1mautoanchor: \u001b[0mn=9, img_size=640, metric_all=0.227/0.645-mean/best, past_thr=0.455-mean: 22,17,  11,51,  69,13,  43,54,  19,195,  158,72,  435,47,  97,233,  365,294\n",
      "\u001b[34m\u001b[1mautoanchor: \u001b[0mNew anchors saved to model. Update model *.yaml to use these anchors in the future.\n",
      "\n",
      "Image sizes 640 train, 640 val\n",
      "Using 8 dataloader workers\n",
      "Logging results to \u001b[1mruns/train/exp5\u001b[0m\n",
      "Starting training for 2 epochs...\n",
      "\n",
      "     Epoch   gpu_mem       box       obj       cls     other    labels  img_size\n",
      "       0/1     1.76G    0.3367   0.02738   0.05271    0.1716        25       640^C\n",
      "       0/1     1.76G    0.3367   0.02738   0.05271    0.1716        25       640\n",
      "Traceback (most recent call last):\n",
      "  File \"/home/dteti/Documents/git/yolov5/train.py\", line 611, in <module>\n",
      "    main(opt)\n",
      "  File \"/home/dteti/Documents/git/yolov5/train.py\", line 509, in main\n",
      "    train(opt.hyp, opt, device)\n",
      "  File \"/home/dteti/Documents/git/yolov5/train.py\", line 323, in train\n",
      "    scaler.step(optimizer)  # optimizer.step\n",
      "  File \"/home/dteti/miniconda3/lib/python3.9/site-packages/torch/cuda/amp/grad_scaler.py\", line 338, in step\n",
      "    retval = self._maybe_opt_step(optimizer, optimizer_state, *args, **kwargs)\n",
      "  File \"/home/dteti/miniconda3/lib/python3.9/site-packages/torch/cuda/amp/grad_scaler.py\", line 284, in _maybe_opt_step\n",
      "    if not sum(v.item() for v in optimizer_state[\"found_inf_per_device\"].values()):\n",
      "  File \"/home/dteti/miniconda3/lib/python3.9/site-packages/torch/cuda/amp/grad_scaler.py\", line 284, in <genexpr>\n",
      "    if not sum(v.item() for v in optimizer_state[\"found_inf_per_device\"].values()):\n",
      "KeyboardInterrupt\n"
     ]
    }
   ],
   "source": [
    "!python train.py --img 640 --batch 8 --epochs 2 --data bpjt.yaml --weights yolov5s.pt --cfg models/yolov5sm.yaml"
   ]
  },
  {
   "cell_type": "code",
   "execution_count": 7,
   "metadata": {},
   "outputs": [],
   "source": [
    "test = 1"
   ]
  },
  {
   "cell_type": "code",
   "execution_count": 13,
   "metadata": {},
   "outputs": [],
   "source": [
    "a = np.array([[2,3,4],[3,4,5]])"
   ]
  },
  {
   "cell_type": "code",
   "execution_count": 9,
   "metadata": {},
   "outputs": [],
   "source": [
    "label = np.load('sym_data/wo_others/train/labels.cache', allow_pickle=True).item()"
   ]
  },
  {
   "cell_type": "code",
   "execution_count": null,
   "metadata": {},
   "outputs": [],
   "source": [
    "label"
   ]
  },
  {
   "cell_type": "code",
   "execution_count": null,
   "metadata": {},
   "outputs": [],
   "source": [
    "nf, nm, ne, nc, n = label.pop('results') "
   ]
  },
  {
   "cell_type": "code",
   "execution_count": 197,
   "metadata": {},
   "outputs": [
    {
     "data": {
      "text/plain": [
       "[2, 3]"
      ]
     },
     "execution_count": 197,
     "metadata": {},
     "output_type": "execute_result"
    }
   ],
   "source": [
    "a=[2,3,4]\n",
    "a[:-1]"
   ]
  },
  {
   "cell_type": "code",
   "execution_count": 71,
   "metadata": {},
   "outputs": [
    {
     "name": "stdout",
     "output_type": "stream",
     "text": [
      "7\n"
     ]
    }
   ],
   "source": [
    "targets = torch.rand((3,7))\n",
    "print(targets.shape[1])\n",
    "na, nt = 5, targets.shape[0]  # number of anchors, targets\n",
    "tcls, tbox, indices, anch = [], [], [], []\n",
    "gain = torch.ones(7, device=targets.device)  # normalized to gridspace gain\n",
    "ai = torch.arange(na, device=targets.device).float().view(na, 1).repeat(1, nt)  # same as .repeat_interleave(nt)\n",
    "targets = torch.cat((targets.repeat(na, 1, 1), ai[:, :, None]), 2)  # append anchor indices\n",
    "     "
   ]
  },
  {
   "cell_type": "code",
   "execution_count": 190,
   "metadata": {},
   "outputs": [
    {
     "data": {
      "text/plain": [
       "tensor([[[0.1011, 0.2941, 0.3021, 0.8305, 0.3496, 0.2727, 0.0582, 0.0000],\n",
       "         [0.5124, 0.4279, 0.3083, 0.3587, 0.9791, 0.9079, 0.1942, 0.0000],\n",
       "         [0.2146, 0.5358, 0.5790, 0.1676, 0.6355, 0.4776, 0.1970, 0.0000]],\n",
       "\n",
       "        [[0.1011, 0.2941, 0.3021, 0.8305, 0.3496, 0.2727, 0.0582, 1.0000],\n",
       "         [0.5124, 0.4279, 0.3083, 0.3587, 0.9791, 0.9079, 0.1942, 1.0000],\n",
       "         [0.2146, 0.5358, 0.5790, 0.1676, 0.6355, 0.4776, 0.1970, 1.0000]],\n",
       "\n",
       "        [[0.1011, 0.2941, 0.3021, 0.8305, 0.3496, 0.2727, 0.0582, 2.0000],\n",
       "         [0.5124, 0.4279, 0.3083, 0.3587, 0.9791, 0.9079, 0.1942, 2.0000],\n",
       "         [0.2146, 0.5358, 0.5790, 0.1676, 0.6355, 0.4776, 0.1970, 2.0000]],\n",
       "\n",
       "        [[0.1011, 0.2941, 0.3021, 0.8305, 0.3496, 0.2727, 0.0582, 3.0000],\n",
       "         [0.5124, 0.4279, 0.3083, 0.3587, 0.9791, 0.9079, 0.1942, 3.0000],\n",
       "         [0.2146, 0.5358, 0.5790, 0.1676, 0.6355, 0.4776, 0.1970, 3.0000]],\n",
       "\n",
       "        [[0.1011, 0.2941, 0.3021, 0.8305, 0.3496, 0.2727, 0.0582, 4.0000],\n",
       "         [0.5124, 0.4279, 0.3083, 0.3587, 0.9791, 0.9079, 0.1942, 4.0000],\n",
       "         [0.2146, 0.5358, 0.5790, 0.1676, 0.6355, 0.4776, 0.1970, 4.0000]]])"
      ]
     },
     "execution_count": 190,
     "metadata": {},
     "output_type": "execute_result"
    }
   ],
   "source": [
    "targets"
   ]
  },
  {
   "cell_type": "code",
   "execution_count": 141,
   "metadata": {},
   "outputs": [
    {
     "data": {
      "text/plain": [
       "torch.Size([5, 3, 8])"
      ]
     },
     "execution_count": 141,
     "metadata": {},
     "output_type": "execute_result"
    }
   ],
   "source": [
    "targets.shape"
   ]
  },
  {
   "cell_type": "code",
   "execution_count": 50,
   "metadata": {},
   "outputs": [
    {
     "data": {
      "text/plain": [
       "torch.Size([7])"
      ]
     },
     "execution_count": 50,
     "metadata": {},
     "output_type": "execute_result"
    }
   ],
   "source": [
    "gain.shape"
   ]
  },
  {
   "cell_type": "code",
   "execution_count": 215,
   "metadata": {},
   "outputs": [
    {
     "data": {
      "text/plain": [
       "[3, 4, 5]"
      ]
     },
     "execution_count": 215,
     "metadata": {},
     "output_type": "execute_result"
    }
   ],
   "source": [
    "a =[2,3,4]\n",
    "b = [3,4,5]\n",
    "\n",
    "b or a"
   ]
  },
  {
   "cell_type": "code",
   "execution_count": 2,
   "metadata": {},
   "outputs": [],
   "source": [
    "import numpy as np\n",
    "a=np.random.randint(0,10,(2,3,4))"
   ]
  },
  {
   "cell_type": "code",
   "execution_count": 7,
   "metadata": {},
   "outputs": [
    {
     "data": {
      "text/plain": [
       "array([[[7, 3],\n",
       "        [1, 1],\n",
       "        [7, 3]]])"
      ]
     },
     "execution_count": 7,
     "metadata": {},
     "output_type": "execute_result"
    }
   ],
   "source": [
    "a[1:,...,:2]\n",
    "# a"
   ]
  }
 ],
 "metadata": {
  "interpreter": {
   "hash": "9474cd2baaf677c49d648dea083453a3171f3bfb0e031121b56927728639c287"
  },
  "kernelspec": {
   "display_name": "Python 3",
   "language": "python",
   "name": "python3"
  },
  "language_info": {
   "codemirror_mode": {
    "name": "ipython",
    "version": 3
   },
   "file_extension": ".py",
   "mimetype": "text/x-python",
   "name": "python",
   "nbconvert_exporter": "python",
   "pygments_lexer": "ipython3",
   "version": "3.8.8"
  }
 },
 "nbformat": 4,
 "nbformat_minor": 4
}
